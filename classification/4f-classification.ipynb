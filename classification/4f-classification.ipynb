{
 "cells": [
  {
   "cell_type": "markdown",
   "metadata": {},
   "source": [
    "# Classification for 8 classes (with all 4 features)\n",
    "`air ` vs `fake euphoria` vs `fake goodgirl` vs `fake ysly` vs `fake theone`\n",
    "\n",
    "`og_euphoria` vs `og_goodgirl` vs  `og ysly` vs `og_theone`"
   ]
  },
  {
   "cell_type": "code",
   "execution_count": 4,
   "metadata": {},
   "outputs": [],
   "source": [
    "import numpy as np\n",
    "from sklearn.preprocessing import OneHotEncoder\n",
    "\n",
    "from matplotlib import pyplot as plt \n",
    "\n",
    "import torch\n",
    "import torch.nn as nn\n",
    "from torch.utils.data import DataLoader, Dataset\n",
    "\n",
    "from sklearn.model_selection import train_test_split\n",
    "from sklearn.metrics import  confusion_matrix, ConfusionMatrixDisplay, classification_report"
   ]
  },
  {
   "cell_type": "code",
   "execution_count": 5,
   "metadata": {},
   "outputs": [],
   "source": [
    "dataset = np.load('../perfumes-dataset-04-05-2024.npz', allow_pickle=True)['data'].tolist()\n",
    "dataset = [d for d in dataset if 'sauvage' not in d['name']] # exclude 'sauvage' as we dont have og to compare"
   ]
  },
  {
   "cell_type": "code",
   "execution_count": 6,
   "metadata": {},
   "outputs": [],
   "source": [
    "signals = [d['data'] for d in dataset]"
   ]
  },
  {
   "cell_type": "code",
   "execution_count": 7,
   "metadata": {},
   "outputs": [
    {
     "name": "stdout",
     "output_type": "stream",
     "text": [
      "Signals shape: (17, 8, 4, 10, 101)\n"
     ]
    }
   ],
   "source": [
    "signals_array = np.array(signals)\n",
    "\n",
    "print('Signals shape:', signals_array.shape)"
   ]
  },
  {
   "cell_type": "code",
   "execution_count": 8,
   "metadata": {},
   "outputs": [],
   "source": [
    "signals_array = np.transpose(signals_array, (0, 2, 1, 3, 4)) # perf, feature, channel, cycle_step, signal"
   ]
  },
  {
   "cell_type": "markdown",
   "metadata": {},
   "source": [
    "## Normalize data along sensor dimension "
   ]
  },
  {
   "cell_type": "code",
   "execution_count": 9,
   "metadata": {},
   "outputs": [],
   "source": [
    "perftype_splitted = []\n",
    "\n",
    "for perf in signals_array:\n",
    "    sensor_splitted = []\n",
    "    for sensor in perf:\n",
    "        cycle_splitted = []\n",
    "        for cycle in sensor:\n",
    "            channel_normalized = []\n",
    "            for channel in cycle:\n",
    "                mean_val = channel.mean()\n",
    "                std_val = channel.std()\n",
    "                normalized_val = (channel - mean_val) / std_val\n",
    "                channel_normalized.append(normalized_val)\n",
    "            cycle_splitted.append(channel_normalized)\n",
    "        sensor_splitted.append(cycle_splitted)\n",
    "    perftype_splitted.append(sensor_splitted)\n",
    "\n",
    "singals_normalized = np.array(perftype_splitted)\n"
   ]
  },
  {
   "cell_type": "code",
   "execution_count": 10,
   "metadata": {},
   "outputs": [],
   "source": [
    "# concatenate \n",
    "signals = []\n",
    "for perf in singals_normalized:\n",
    "    reshaped_resistancy = perf.reshape((4, 80, 101))\n",
    "    signals.append(reshaped_resistancy)\n",
    "\n",
    "signals = np.array(signals)"
   ]
  },
  {
   "cell_type": "code",
   "execution_count": 11,
   "metadata": {},
   "outputs": [
    {
     "data": {
      "text/plain": [
       "(17, 4, 80, 101)"
      ]
     },
     "execution_count": 11,
     "metadata": {},
     "output_type": "execute_result"
    }
   ],
   "source": [
    "signals.shape"
   ]
  },
  {
   "cell_type": "code",
   "execution_count": 12,
   "metadata": {},
   "outputs": [],
   "source": [
    "labels = [d['name'] for d in dataset]\n",
    "X = []\n",
    "y = []\n",
    "for res, lab in zip(signals, labels):\n",
    "    res = np.transpose(res, (1, 0, 2))\n",
    "    X.append(res)\n",
    "    y.append([lab]*80)\n",
    "\n",
    "X = np.array(X).reshape((17*80, 4, 101))\n",
    "y = np.array(y).reshape((17*80))\n"
   ]
  },
  {
   "cell_type": "code",
   "execution_count": 13,
   "metadata": {},
   "outputs": [],
   "source": [
    "y = np.where(y == 'powietrze', 'air_background', y)"
   ]
  },
  {
   "cell_type": "code",
   "execution_count": 14,
   "metadata": {},
   "outputs": [
    {
     "data": {
      "text/plain": [
       "(1360, 4, 101)"
      ]
     },
     "execution_count": 14,
     "metadata": {},
     "output_type": "execute_result"
    }
   ],
   "source": [
    "X.shape"
   ]
  },
  {
   "cell_type": "code",
   "execution_count": 15,
   "metadata": {},
   "outputs": [
    {
     "data": {
      "text/plain": [
       "array(['air_background', 'fake_euphoria_bg', 'fake_euphoria_sam',\n",
       "       'fake_goodgirl_bg', 'fake_goodgirl_sam', 'fake_theone_bg',\n",
       "       'fake_theone_sam', 'fake_ysly_bg', 'fake_ysly_sam',\n",
       "       'og_euphoria_bg', 'og_euphoria_sam', 'og_goodgirl_bg',\n",
       "       'og_goodgirl_sam', 'og_theone_bg', 'og_theone_sam', 'og_ysly_bg',\n",
       "       'og_ysly_sam'], dtype='<U17')"
      ]
     },
     "execution_count": 15,
     "metadata": {},
     "output_type": "execute_result"
    }
   ],
   "source": [
    "np.unique(y)"
   ]
  },
  {
   "cell_type": "code",
   "execution_count": 16,
   "metadata": {},
   "outputs": [],
   "source": [
    "y_ = [_.split('_')[0:2] for _ in y]\n",
    "y_ = [x[0] + '_' + x[1] for x in y_]\n",
    "\n",
    "y = np.array(y_)"
   ]
  },
  {
   "cell_type": "code",
   "execution_count": 17,
   "metadata": {},
   "outputs": [
    {
     "data": {
      "text/plain": [
       "array(['air_background', 'fake_euphoria', 'fake_goodgirl', 'fake_theone',\n",
       "       'fake_ysly', 'og_euphoria', 'og_goodgirl', 'og_theone', 'og_ysly'],\n",
       "      dtype='<U14')"
      ]
     },
     "execution_count": 17,
     "metadata": {},
     "output_type": "execute_result"
    }
   ],
   "source": [
    "np.unique(y_)"
   ]
  },
  {
   "cell_type": "code",
   "execution_count": 18,
   "metadata": {},
   "outputs": [],
   "source": [
    "oh = OneHotEncoder(sparse_output=True)\n",
    "oh = oh.fit(y.reshape(-1, 1))\n",
    "\n",
    "\n",
    "y = oh.transform(y.reshape(-1, 1))\n",
    "y = y.toarray()"
   ]
  },
  {
   "cell_type": "code",
   "execution_count": 19,
   "metadata": {},
   "outputs": [
    {
     "data": {
      "text/plain": [
       "((1360, 4, 101), (1360, 9))"
      ]
     },
     "execution_count": 19,
     "metadata": {},
     "output_type": "execute_result"
    }
   ],
   "source": [
    "X.shape, y.shape"
   ]
  },
  {
   "cell_type": "code",
   "execution_count": 20,
   "metadata": {},
   "outputs": [],
   "source": [
    "class TimeSeriesDataset(Dataset):\n",
    "    def __init__(self, X, y):\n",
    "        self.X = X\n",
    "        self.y = y\n",
    "    def __len__(self):\n",
    "        return len(self.X)\n",
    "    \n",
    "    def __getitem__(self, idx):\n",
    "        return torch.FloatTensor(self.X[idx]), self.y[idx]"
   ]
  },
  {
   "cell_type": "code",
   "execution_count": 21,
   "metadata": {},
   "outputs": [],
   "source": [
    "np.random.seed(2023)\n",
    "permutation_idx = np.random.randint(low = 0, high = len(X), size = len(X)) \n",
    "\n",
    "X = X[permutation_idx]\n",
    "y = y[permutation_idx]"
   ]
  },
  {
   "cell_type": "code",
   "execution_count": 22,
   "metadata": {},
   "outputs": [],
   "source": [
    "X = torch.tensor(X).to(torch.float32)\n",
    "y = torch.tensor(y, dtype = torch.float16)\n",
    "\n",
    "\n",
    "X_train, X_test, y_train, y_test = train_test_split(X, y, test_size=0.3, random_state=2024)\n",
    "X_val, X_test, y_val, y_test = train_test_split(X_test, y_test, test_size=0.5, random_state=2024)"
   ]
  },
  {
   "cell_type": "code",
   "execution_count": 23,
   "metadata": {},
   "outputs": [
    {
     "name": "stdout",
     "output_type": "stream",
     "text": [
      "Train dataset shape; torch.Size([952, 4, 101])\n",
      "Val dataset shape; torch.Size([204, 4, 101])\n",
      "Test dataset shape; torch.Size([204, 4, 101])\n"
     ]
    }
   ],
   "source": [
    "print('Train dataset shape;', X_train.shape)\n",
    "print('Val dataset shape;', X_val.shape)\n",
    "print('Test dataset shape;', X_test.shape)\n"
   ]
  },
  {
   "cell_type": "code",
   "execution_count": 24,
   "metadata": {},
   "outputs": [],
   "source": [
    "noised_signals = []\n",
    "noised_labels = []\n",
    "orig_x = []\n",
    "for x, y in zip(X_train, y_train):\n",
    "    p = np.random.randint(0, 100, 1)\n",
    "    if p % 2 == 0:\n",
    "        x_noised = []\n",
    "        for feature in x:\n",
    "            noise = np.random.normal(loc = 0, scale = x.std()/8, size = channel.shape[0])\n",
    "            feature_noised = feature + noise\n",
    "            x_noised.append(feature_noised)\n",
    "        x_noised = np.array(x_noised)\n",
    "        noised_signals.append(x_noised)\n",
    "        noised_labels.append(y)\n",
    "        orig_x.append(x)\n",
    "\n",
    "noised_signals = np.array(noised_signals)\n",
    "noised_labels = np.array(noised_labels)"
   ]
  },
  {
   "cell_type": "code",
   "execution_count": 25,
   "metadata": {},
   "outputs": [
    {
     "data": {
      "text/plain": [
       "(474, 4, 101)"
      ]
     },
     "execution_count": 25,
     "metadata": {},
     "output_type": "execute_result"
    }
   ],
   "source": [
    "noised_signals.shape"
   ]
  },
  {
   "cell_type": "code",
   "execution_count": 26,
   "metadata": {},
   "outputs": [
    {
     "data": {
      "text/plain": [
       "<matplotlib.legend.Legend at 0x741a04520580>"
      ]
     },
     "execution_count": 26,
     "metadata": {},
     "output_type": "execute_result"
    },
    {
     "data": {
      "image/png": "[encoded data removed]",
      "text/plain": [
       "<Figure size 1200x900 with 4 Axes>"
      ]
     },
     "metadata": {},
     "output_type": "display_data"
    }
   ],
   "source": [
    "np.random.seed(20322)\n",
    "idx = np.random.randint(0, len(noised_signals), size = 1)\n",
    "\n",
    "x_noised = noised_signals[idx].squeeze()\n",
    "x_orig = np.array(orig_x[idx[0]])\n",
    "\n",
    "import seaborn as sns\n",
    "# sns.set_style('ticks')\n",
    "fig, axes = plt.subplots(nrows= 2, ncols = 2, figsize = (12, 9))\n",
    "\n",
    "axes = axes.flatten()\n",
    "\n",
    "# for x, xn in zip(x_orig, x_noised):\n",
    "#     # print(x.shape)\n",
    "FEATURES = ['Resistance', 'Temperature', 'Pressure', 'Humidity']\n",
    "for i, (x, xn) in enumerate(zip(x_orig, x_noised)):\n",
    "    # print(x.shape)\n",
    "    axes[i].plot(x[:40], label = 'Signal')\n",
    "    axes[i].plot(xn[:40], label = 'Augmented signal')\n",
    "    axes[i].set_title(FEATURES[i])\n",
    "\n",
    "plt.legend(loc='upper center', bbox_to_anchor=(0, -0.25), fancybox=True, shadow=True, ncol=2)\n"
   ]
  },
  {
   "cell_type": "code",
   "execution_count": 27,
   "metadata": {},
   "outputs": [
    {
     "name": "stdout",
     "output_type": "stream",
     "text": [
      "Noised samples: 474\n"
     ]
    }
   ],
   "source": [
    "print('Noised samples:', noised_signals.shape[0])"
   ]
  },
  {
   "cell_type": "code",
   "execution_count": 28,
   "metadata": {},
   "outputs": [],
   "source": [
    "X_train = torch.row_stack((X_train, torch.tensor(noised_signals))).to(torch.float32)\n",
    "y_train = torch.row_stack((y_train, torch.tensor(noised_labels)))\n"
   ]
  },
  {
   "cell_type": "code",
   "execution_count": 29,
   "metadata": {},
   "outputs": [
    {
     "name": "stdout",
     "output_type": "stream",
     "text": [
      "New train shape: torch.Size([1426, 4, 101])\n"
     ]
    }
   ],
   "source": [
    "print('New train shape:', X_train.shape)"
   ]
  },
  {
   "cell_type": "code",
   "execution_count": 30,
   "metadata": {},
   "outputs": [],
   "source": [
    "xxxx = torch.rand((64, 101, 4))"
   ]
  },
  {
   "cell_type": "code",
   "execution_count": 31,
   "metadata": {},
   "outputs": [
    {
     "data": {
      "text/plain": [
       "torch.Size([64, 4, 101])"
      ]
     },
     "execution_count": 31,
     "metadata": {},
     "output_type": "execute_result"
    }
   ],
   "source": [
    "torch.transpose(xxxx, 1, 2).shape"
   ]
  },
  {
   "cell_type": "code",
   "execution_count": 32,
   "metadata": {},
   "outputs": [
    {
     "data": {
      "text/plain": [
       "torch.Size([1426, 4, 101])"
      ]
     },
     "execution_count": 32,
     "metadata": {},
     "output_type": "execute_result"
    }
   ],
   "source": [
    "X_train.shape"
   ]
  },
  {
   "cell_type": "code",
   "execution_count": 33,
   "metadata": {},
   "outputs": [],
   "source": [
    "X_train = torch.transpose(X_train, 1, 2)\n",
    "X_val = torch.transpose(X_val, 1, 2)\n",
    "X_test = torch.transpose(X_test, 1, 2)"
   ]
  },
  {
   "cell_type": "code",
   "execution_count": 34,
   "metadata": {},
   "outputs": [
    {
     "data": {
      "text/plain": [
       "(torch.Size([1426, 101, 4]),\n",
       " torch.Size([204, 101, 4]),\n",
       " torch.Size([204, 101, 4]))"
      ]
     },
     "execution_count": 34,
     "metadata": {},
     "output_type": "execute_result"
    }
   ],
   "source": [
    "X_train.shape, X_val.shape, X_test.shape"
   ]
  },
  {
   "cell_type": "code",
   "execution_count": 35,
   "metadata": {},
   "outputs": [],
   "source": [
    "class PerfumeClassifier(nn.Module):\n",
    "    def __init__(self):\n",
    "        super().__init__()\n",
    "        self.lstm1 = nn.LSTM(input_size=4, hidden_size=16, batch_first=True)\n",
    "        # self.lstm1.flatten_parameters()\n",
    "        self.flat = nn.Flatten()\n",
    "        self.drop = nn.Dropout(0.4)\n",
    "        self.dense1 = nn.Linear(16*101, 32)\n",
    "        self.relu1 = nn.ReLU()\n",
    "\n",
    "        \n",
    "        self.out = nn.Linear(32, 9)\n",
    "\n",
    "    def forward(self, x):\n",
    "        # outputs = x\n",
    "        outputs, _ = self.lstm1(x)\n",
    "        outputs = self.flat(outputs)\n",
    "        outputs = self.drop(outputs)\n",
    "\n",
    "        outputs = self.relu1(self.dense1(outputs))\n",
    "\n",
    "        outputs = self.out(outputs)\n",
    "        return outputs"
   ]
  },
  {
   "cell_type": "code",
   "execution_count": 36,
   "metadata": {},
   "outputs": [
    {
     "ename": "NameError",
     "evalue": "name 'model' is not defined",
     "output_type": "error",
     "traceback": [
      "\u001b[0;31m---------------------------------------------------------------------------\u001b[0m",
      "\u001b[0;31mNameError\u001b[0m                                 Traceback (most recent call last)",
      "Cell \u001b[0;32mIn[36], line 5\u001b[0m\n\u001b[1;32m      1\u001b[0m \u001b[38;5;66;03m# model = PerfumeClassifier().to('cuda')\u001b[39;00m\n\u001b[1;32m      2\u001b[0m \n\u001b[1;32m      3\u001b[0m \u001b[38;5;66;03m# xx = torch.rand((64, 101, 4)).to('cuda')\u001b[39;00m\n\u001b[0;32m----> 5\u001b[0m \u001b[43mmodel\u001b[49m(xx)\u001b[38;5;241m.\u001b[39mshape\n",
      "\u001b[0;31mNameError\u001b[0m: name 'model' is not defined"
     ]
    }
   ],
   "source": [
    "# model = PerfumeClassifier().to('cuda')\n",
    "\n",
    "# xx = torch.rand((64, 101, 4)).to('cuda')\n",
    "\n",
    "model(xx).shape"
   ]
  },
  {
   "cell_type": "code",
   "execution_count": 37,
   "metadata": {},
   "outputs": [],
   "source": [
    "BATCH_SIZE = 32\n",
    "\n",
    "\n",
    "train_dataset = TimeSeriesDataset(X_train, y_train)\n",
    "train_loader = DataLoader(train_dataset, batch_size=BATCH_SIZE, shuffle=True)\n",
    "\n",
    "val_dataset = TimeSeriesDataset(X_val, y_val)\n",
    "val_loader = DataLoader(val_dataset, batch_size=BATCH_SIZE, shuffle=True)\n",
    "\n",
    "test_dataset = TimeSeriesDataset(X_test, y_test)\n",
    "test_loader = DataLoader(test_dataset, batch_size=BATCH_SIZE, shuffle=True)\n"
   ]
  },
  {
   "cell_type": "code",
   "execution_count": 38,
   "metadata": {},
   "outputs": [
    {
     "name": "stderr",
     "output_type": "stream",
     "text": [
      "/tmp/ipykernel_152196/1432415718.py:4: UserWarning: To copy construct from a tensor, it is recommended to use sourceTensor.clone().detach() or sourceTensor.clone().detach().requires_grad_(True), rather than torch.tensor(sourceTensor).\n",
      "  xx = torch.tensor(xx)\n"
     ]
    },
    {
     "ename": "RuntimeError",
     "evalue": "The NVIDIA driver on your system is too old (found version 11040). Please update your GPU driver by downloading and installing a new version from the URL: http://www.nvidia.com/Download/index.aspx Alternatively, go to: https://pytorch.org to install a PyTorch version that has been compiled with your version of the CUDA driver.",
     "output_type": "error",
     "traceback": [
      "\u001b[0;31m---------------------------------------------------------------------------\u001b[0m",
      "\u001b[0;31mRuntimeError\u001b[0m                              Traceback (most recent call last)",
      "Cell \u001b[0;32mIn[38], line 5\u001b[0m\n\u001b[1;32m      3\u001b[0m xx, yy \u001b[38;5;241m=\u001b[39m d\n\u001b[1;32m      4\u001b[0m xx \u001b[38;5;241m=\u001b[39m torch\u001b[38;5;241m.\u001b[39mtensor(xx)\n\u001b[0;32m----> 5\u001b[0m o \u001b[38;5;241m=\u001b[39m model(\u001b[43mxx\u001b[49m\u001b[38;5;241;43m.\u001b[39;49m\u001b[43mto\u001b[49m\u001b[43m(\u001b[49m\u001b[38;5;124;43m'\u001b[39;49m\u001b[38;5;124;43mcuda\u001b[39;49m\u001b[38;5;124;43m'\u001b[39;49m\u001b[43m)\u001b[49m)\n",
      "File \u001b[0;32m~/miniconda3/envs/torch-cuda/lib/python3.10/site-packages/torch/cuda/__init__.py:302\u001b[0m, in \u001b[0;36m_lazy_init\u001b[0;34m()\u001b[0m\n\u001b[1;32m    300\u001b[0m \u001b[38;5;28;01mif\u001b[39;00m \u001b[38;5;124m\"\u001b[39m\u001b[38;5;124mCUDA_MODULE_LOADING\u001b[39m\u001b[38;5;124m\"\u001b[39m \u001b[38;5;129;01mnot\u001b[39;00m \u001b[38;5;129;01min\u001b[39;00m os\u001b[38;5;241m.\u001b[39menviron:\n\u001b[1;32m    301\u001b[0m     os\u001b[38;5;241m.\u001b[39menviron[\u001b[38;5;124m\"\u001b[39m\u001b[38;5;124mCUDA_MODULE_LOADING\u001b[39m\u001b[38;5;124m\"\u001b[39m] \u001b[38;5;241m=\u001b[39m \u001b[38;5;124m\"\u001b[39m\u001b[38;5;124mLAZY\u001b[39m\u001b[38;5;124m\"\u001b[39m\n\u001b[0;32m--> 302\u001b[0m \u001b[43mtorch\u001b[49m\u001b[38;5;241;43m.\u001b[39;49m\u001b[43m_C\u001b[49m\u001b[38;5;241;43m.\u001b[39;49m\u001b[43m_cuda_init\u001b[49m\u001b[43m(\u001b[49m\u001b[43m)\u001b[49m\n\u001b[1;32m    303\u001b[0m \u001b[38;5;66;03m# Some of the queued calls may reentrantly call _lazy_init();\u001b[39;00m\n\u001b[1;32m    304\u001b[0m \u001b[38;5;66;03m# we need to just return without initializing in that case.\u001b[39;00m\n\u001b[1;32m    305\u001b[0m \u001b[38;5;66;03m# However, we must not let any *other* threads in!\u001b[39;00m\n\u001b[1;32m    306\u001b[0m _tls\u001b[38;5;241m.\u001b[39mis_initializing \u001b[38;5;241m=\u001b[39m \u001b[38;5;28;01mTrue\u001b[39;00m\n",
      "\u001b[0;31mRuntimeError\u001b[0m: The NVIDIA driver on your system is too old (found version 11040). Please update your GPU driver by downloading and installing a new version from the URL: http://www.nvidia.com/Download/index.aspx Alternatively, go to: https://pytorch.org to install a PyTorch version that has been compiled with your version of the CUDA driver."
     ]
    }
   ],
   "source": [
    "model = PerfumeClassifier()\n",
    "for d in train_loader:\n",
    "    xx, yy = d\n",
    "    xx = torch.tensor(xx)\n",
    "    o = model(xx.to('cuda'))"
   ]
  },
  {
   "cell_type": "code",
   "execution_count": 41,
   "metadata": {},
   "outputs": [],
   "source": [
    "def train_epoch(model, data_loader, loss_fn, optimizer, device):\n",
    "    model = model.train()\n",
    "    losses = []\n",
    "    accs = []\n",
    "    for i, batch in enumerate(data_loader):\n",
    "        X, y = batch\n",
    "        X, y = X.to(device), y.to(device)\n",
    "\n",
    "        outputs = model(X)\n",
    "\n",
    "        loss = loss_fn(outputs, y)\n",
    "        loss.backward()\n",
    "        \n",
    "        optimizer.step()\n",
    "        optimizer.zero_grad()\n",
    "\n",
    "\n",
    "        y_truth = torch.where(y != 0)[1]\n",
    "        y_pred = torch.max(outputs, 1)[1]\n",
    "\n",
    "\n",
    "        total_correct = (y_truth == y_pred).sum().item()\n",
    "        total_samples = y.size(0)\n",
    "        \n",
    "        accuracy = total_correct / total_samples\n",
    "        \n",
    "        losses.append(loss.item())\n",
    "        accs.append(accuracy)\n",
    "\n",
    "\n",
    "    return np.mean(losses), np.mean(accuracy)\n",
    "\n",
    "\n",
    "\n",
    "def eval_model(model, data_loader, loss_fn, device):\n",
    "    model = model.eval()\n",
    "\n",
    "    losses = []\n",
    "    accs = []\n",
    "    for i, batch in enumerate(data_loader):\n",
    "        X, y = batch\n",
    "        X, y = X.to(device), y.to(device)\n",
    "\n",
    "        outputs = model(X)\n",
    "\n",
    "        loss = loss_fn(outputs, y)\n",
    "    \n",
    "        y_truth = torch.where(y != 0)[1]\n",
    "        y_pred = torch.max(outputs, 1)[1]\n",
    "\n",
    "        total_correct = (y_truth == y_pred).sum().item()\n",
    "        total_samples = y.size(0)\n",
    "        \n",
    "        accuracy = total_correct / total_samples\n",
    "        \n",
    "\n",
    "        losses.append(loss.item())\n",
    "        accs.append(accuracy)\n",
    "\n",
    "    return np.mean(losses), np.mean(accs)\n"
   ]
  },
  {
   "cell_type": "code",
   "execution_count": 42,
   "metadata": {},
   "outputs": [],
   "source": [
    "EPOCHS = 1000\n",
    "LR = 1e-3\n",
    "DEVICE = 'cuda' if torch.cuda.is_available() else 'cpu'\n",
    "# DEVICE = 'cpu'\n",
    "model = PerfumeClassifier()\n",
    "model = model.to(DEVICE)\n",
    "\n",
    "\n",
    "optimizer = torch.optim.AdamW(model.parameters(), lr=LR)\n",
    "scheduler = torch.optim.lr_scheduler.StepLR(optimizer, step_size=20, gamma = 0.9)\n",
    "\n",
    "loss_fn = nn.CrossEntropyLoss()\n"
   ]
  },
  {
   "cell_type": "code",
   "execution_count": 43,
   "metadata": {},
   "outputs": [
    {
     "name": "stdout",
     "output_type": "stream",
     "text": [
      "EPOCH 1/1000\n",
      "Train loss:  1.9460338089201186 \t Train accuracy: 0.3333333333333333\n",
      "Val loss: 1.7595819405147008 \t Val accuracy: 0.275297619047619\n",
      "**********\n",
      "New best!\n",
      "**********\n",
      "EPOCH 2/1000\n",
      "Train loss:  1.6154639826880561 \t Train accuracy: 0.3333333333333333\n",
      "Val loss: 1.4872040067400252 \t Val accuracy: 0.3898809523809524\n",
      "**********\n",
      "New best!\n",
      "**********\n",
      "EPOCH 3/1000\n",
      "Train loss:  1.399546504020691 \t Train accuracy: 0.5555555555555556\n",
      "Val loss: 1.3349295684269495 \t Val accuracy: 0.4330357142857143\n",
      "**********\n",
      "New best!\n",
      "**********\n",
      "EPOCH 4/1000\n",
      "Train loss:  1.2371932824452718 \t Train accuracy: 0.8333333333333334\n",
      "Val loss: 1.1804926310266768 \t Val accuracy: 0.5729166666666667\n",
      "**********\n",
      "New best!\n",
      "**********\n",
      "EPOCH 5/1000\n",
      "Train loss:  1.0731731984350417 \t Train accuracy: 0.5555555555555556\n",
      "Val loss: 1.1459371532712663 \t Val accuracy: 0.5833333333333333\n",
      "**********\n",
      "New best!\n",
      "**********\n",
      "EPOCH 6/1000\n",
      "Train loss:  0.9544991652170817 \t Train accuracy: 0.7777777777777778\n",
      "Val loss: 1.0185567821775163 \t Val accuracy: 0.6205357142857143\n",
      "**********\n",
      "New best!\n",
      "**********\n",
      "EPOCH 7/1000\n",
      "Train loss:  0.8397109660837385 \t Train accuracy: 0.8333333333333334\n",
      "Val loss: 0.866251528263092 \t Val accuracy: 0.7142857142857143\n",
      "**********\n",
      "New best!\n",
      "**********\n",
      "EPOCH 8/1000\n",
      "Train loss:  0.7300904836919573 \t Train accuracy: 0.8888888888888888\n",
      "Val loss: 0.8273391893931797 \t Val accuracy: 0.724702380952381\n",
      "**********\n",
      "New best!\n",
      "**********\n",
      "EPOCH 9/1000\n",
      "Train loss:  0.6578764902220832 \t Train accuracy: 0.7222222222222222\n",
      "Val loss: 0.7706639000347683 \t Val accuracy: 0.7485119047619048\n",
      "**********\n",
      "New best!\n",
      "**********\n",
      "EPOCH 10/1000\n",
      "Train loss:  0.5944392336739435 \t Train accuracy: 0.8333333333333334\n",
      "Val loss: 0.6930409158979144 \t Val accuracy: 0.7782738095238095\n",
      "**********\n",
      "New best!\n",
      "**********\n",
      "EPOCH 11/1000\n",
      "Train loss:  0.5400470667415195 \t Train accuracy: 0.8888888888888888\n",
      "Val loss: 0.7046483371938977 \t Val accuracy: 0.7514880952380952\n",
      "EPOCH 12/1000\n",
      "Train loss:  0.4981336216131846 \t Train accuracy: 0.8333333333333334\n",
      "Val loss: 0.6301118816648211 \t Val accuracy: 0.7916666666666667\n",
      "**********\n",
      "New best!\n",
      "**********\n",
      "EPOCH 13/1000\n",
      "Train loss:  0.4686581366591983 \t Train accuracy: 0.8888888888888888\n",
      "Val loss: 0.6635356034551348 \t Val accuracy: 0.7901785714285714\n",
      "EPOCH 14/1000\n",
      "Train loss:  0.4354007565312915 \t Train accuracy: 0.7777777777777778\n",
      "Val loss: 0.5701227060386113 \t Val accuracy: 0.8273809523809524\n",
      "**********\n",
      "New best!\n",
      "**********\n",
      "EPOCH 15/1000\n",
      "Train loss:  0.41925124228000643 \t Train accuracy: 1.0\n",
      "Val loss: 0.6473344947610583 \t Val accuracy: 0.8080357142857143\n",
      "EPOCH 16/1000\n",
      "Train loss:  0.3723119550281101 \t Train accuracy: 0.8888888888888888\n",
      "Val loss: 0.5486553907394409 \t Val accuracy: 0.8318452380952381\n",
      "**********\n",
      "New best!\n",
      "**********\n",
      "EPOCH 17/1000\n",
      "Train loss:  0.3802131712436676 \t Train accuracy: 0.8333333333333334\n",
      "Val loss: 0.6180862699236188 \t Val accuracy: 0.7916666666666667\n",
      "EPOCH 18/1000\n",
      "Train loss:  0.3668227834833993 \t Train accuracy: 1.0\n",
      "Val loss: 0.5805755002158028 \t Val accuracy: 0.8288690476190476\n",
      "EPOCH 19/1000\n",
      "Train loss:  0.33985067076153225 \t Train accuracy: 0.8888888888888888\n",
      "Val loss: 0.6261519661971501 \t Val accuracy: 0.806547619047619\n",
      "EPOCH 20/1000\n",
      "Train loss:  0.366525156961547 \t Train accuracy: 0.8888888888888888\n",
      "Val loss: 0.5338424848658698 \t Val accuracy: 0.8005952380952381\n",
      "**********\n",
      "New best!\n",
      "**********\n",
      "EPOCH 21/1000\n",
      "Train loss:  0.3174142834213045 \t Train accuracy: 0.9444444444444444\n",
      "Val loss: 0.5044186541012355 \t Val accuracy: 0.8244047619047619\n",
      "**********\n",
      "New best!\n",
      "**********\n",
      "EPOCH 22/1000\n",
      "Train loss:  0.277536627319124 \t Train accuracy: 0.7777777777777778\n",
      "Val loss: 0.5980303755828312 \t Val accuracy: 0.8288690476190476\n",
      "EPOCH 23/1000\n",
      "Train loss:  0.297089911169476 \t Train accuracy: 1.0\n",
      "Val loss: 0.49956846237182617 \t Val accuracy: 0.8407738095238095\n",
      "**********\n",
      "New best!\n",
      "**********\n",
      "EPOCH 24/1000\n",
      "Train loss:  0.2795754884680112 \t Train accuracy: 0.8888888888888888\n",
      "Val loss: 0.4501484100307737 \t Val accuracy: 0.8452380952380952\n",
      "**********\n",
      "New best!\n",
      "**********\n",
      "EPOCH 25/1000\n",
      "Train loss:  0.25510344008604685 \t Train accuracy: 0.9444444444444444\n",
      "Val loss: 0.5303179579121726 \t Val accuracy: 0.8154761904761905\n",
      "EPOCH 26/1000\n",
      "Train loss:  0.2541176938348346 \t Train accuracy: 0.9444444444444444\n",
      "Val loss: 0.4869001465184348 \t Val accuracy: 0.8586309523809524\n",
      "EPOCH 27/1000\n",
      "Train loss:  0.23944016529454126 \t Train accuracy: 0.9444444444444444\n",
      "Val loss: 0.48653462529182434 \t Val accuracy: 0.849702380952381\n",
      "EPOCH 28/1000\n",
      "Train loss:  0.24289888656801648 \t Train accuracy: 0.8888888888888888\n",
      "Val loss: 0.4740530720778874 \t Val accuracy: 0.8467261904761905\n",
      "EPOCH 29/1000\n",
      "Train loss:  0.21484660903612773 \t Train accuracy: 0.8888888888888888\n",
      "Val loss: 0.49879297614097595 \t Val accuracy: 0.8482142857142857\n",
      "EPOCH 30/1000\n",
      "Train loss:  0.20843665707442496 \t Train accuracy: 0.9444444444444444\n",
      "Val loss: 0.4852364787033626 \t Val accuracy: 0.84375\n",
      "EPOCH 31/1000\n",
      "Train loss:  0.21774911450015175 \t Train accuracy: 0.7777777777777778\n",
      "Val loss: 0.4312151457582201 \t Val accuracy: 0.8675595238095238\n",
      "**********\n",
      "New best!\n",
      "**********\n",
      "EPOCH 32/1000\n",
      "Train loss:  0.2445390620165401 \t Train accuracy: 0.8333333333333334\n",
      "Val loss: 0.503362415092332 \t Val accuracy: 0.8675595238095238\n",
      "EPOCH 33/1000\n",
      "Train loss:  0.21013295335902107 \t Train accuracy: 0.8888888888888888\n",
      "Val loss: 0.4438448505742209 \t Val accuracy: 0.8764880952380952\n",
      "EPOCH 34/1000\n",
      "Train loss:  0.18115556976861424 \t Train accuracy: 0.8888888888888888\n",
      "Val loss: 0.49921022994177683 \t Val accuracy: 0.8675595238095238\n",
      "EPOCH 35/1000\n",
      "Train loss:  0.19397221588426167 \t Train accuracy: 1.0\n",
      "Val loss: 0.43166857957839966 \t Val accuracy: 0.8526785714285714\n",
      "EPOCH 36/1000\n",
      "Train loss:  0.17940403156810336 \t Train accuracy: 0.9444444444444444\n",
      "Val loss: 0.449219565306391 \t Val accuracy: 0.869047619047619\n",
      "EPOCH 37/1000\n",
      "Train loss:  0.1600982697473632 \t Train accuracy: 1.0\n",
      "Val loss: 0.41707468618239674 \t Val accuracy: 0.8660714285714286\n",
      "**********\n",
      "New best!\n",
      "**********\n",
      "EPOCH 38/1000\n",
      "Train loss:  0.16163267716765403 \t Train accuracy: 1.0\n",
      "Val loss: 0.40610346517392565 \t Val accuracy: 0.8839285714285714\n",
      "**********\n",
      "New best!\n",
      "**********\n",
      "EPOCH 39/1000\n",
      "Train loss:  0.16482596629195742 \t Train accuracy: 0.8888888888888888\n",
      "Val loss: 0.39087541720696856 \t Val accuracy: 0.8794642857142857\n",
      "**********\n",
      "New best!\n",
      "**********\n",
      "EPOCH 40/1000\n",
      "Train loss:  0.14065283325811226 \t Train accuracy: 0.9444444444444444\n",
      "Val loss: 0.3867715469428471 \t Val accuracy: 0.8764880952380952\n",
      "**********\n",
      "New best!\n",
      "**********\n",
      "EPOCH 41/1000\n",
      "Train loss:  0.1404862472580539 \t Train accuracy: 1.0\n",
      "Val loss: 0.37868484216076986 \t Val accuracy: 0.8645833333333333\n",
      "**********\n",
      "New best!\n",
      "**********\n",
      "EPOCH 42/1000\n",
      "Train loss:  0.1462261389527056 \t Train accuracy: 0.8888888888888888\n",
      "Val loss: 0.4539028746741159 \t Val accuracy: 0.8720238095238095\n",
      "EPOCH 43/1000\n",
      "Train loss:  0.14878378642929924 \t Train accuracy: 1.0\n",
      "Val loss: 0.5026399684803826 \t Val accuracy: 0.8735119047619048\n",
      "EPOCH 44/1000\n",
      "Train loss:  0.13731823099984064 \t Train accuracy: 0.8333333333333334\n",
      "Val loss: 0.39193888008594513 \t Val accuracy: 0.8675595238095238\n",
      "EPOCH 45/1000\n",
      "Train loss:  0.12961568352248934 \t Train accuracy: 1.0\n",
      "Val loss: 0.38075594178267885 \t Val accuracy: 0.8988095238095238\n",
      "EPOCH 46/1000\n",
      "Train loss:  0.1204912752740913 \t Train accuracy: 0.9444444444444444\n",
      "Val loss: 0.47650215455463957 \t Val accuracy: 0.880952380952381\n",
      "EPOCH 47/1000\n",
      "Train loss:  0.12478636014792654 \t Train accuracy: 0.9444444444444444\n",
      "Val loss: 0.4534697468791689 \t Val accuracy: 0.8824404761904762\n",
      "EPOCH 48/1000\n",
      "Train loss:  0.12176567734115654 \t Train accuracy: 1.0\n",
      "Val loss: 0.4068602664130075 \t Val accuracy: 0.8958333333333333\n",
      "EPOCH 49/1000\n",
      "Train loss:  0.11394211136632496 \t Train accuracy: 0.9444444444444444\n",
      "Val loss: 0.39883855410984587 \t Val accuracy: 0.8824404761904762\n",
      "EPOCH 50/1000\n",
      "Train loss:  0.11897782654398018 \t Train accuracy: 0.9444444444444444\n",
      "Val loss: 0.4711255835635321 \t Val accuracy: 0.8571428571428571\n",
      "EPOCH 51/1000\n",
      "Train loss:  0.13247805055644776 \t Train accuracy: 0.8333333333333334\n",
      "Val loss: 0.46198380844933645 \t Val accuracy: 0.8616071428571429\n",
      "EPOCH 52/1000\n",
      "Train loss:  0.10180774169663588 \t Train accuracy: 1.0\n",
      "Val loss: 0.362650359980762 \t Val accuracy: 0.8928571428571429\n",
      "**********\n",
      "New best!\n",
      "**********\n",
      "EPOCH 53/1000\n",
      "Train loss:  0.1055702925970157 \t Train accuracy: 1.0\n",
      "Val loss: 0.3776022217103413 \t Val accuracy: 0.9032738095238095\n",
      "EPOCH 54/1000\n",
      "Train loss:  0.10464863845457634 \t Train accuracy: 0.9444444444444444\n",
      "Val loss: 0.37785494540418896 \t Val accuracy: 0.880952380952381\n",
      "EPOCH 55/1000\n",
      "Train loss:  0.09698799455331432 \t Train accuracy: 1.0\n",
      "Val loss: 0.39576777815818787 \t Val accuracy: 0.8943452380952381\n",
      "EPOCH 56/1000\n",
      "Train loss:  0.09418243393301964 \t Train accuracy: 0.9444444444444444\n",
      "Val loss: 0.4391570474420275 \t Val accuracy: 0.8779761904761905\n",
      "EPOCH 57/1000\n",
      "Train loss:  0.08583517900357644 \t Train accuracy: 1.0\n",
      "Val loss: 0.43729073447840555 \t Val accuracy: 0.869047619047619\n",
      "EPOCH 58/1000\n",
      "Train loss:  0.11472552596694893 \t Train accuracy: 1.0\n",
      "Val loss: 0.39021720205034527 \t Val accuracy: 0.8764880952380952\n",
      "EPOCH 59/1000\n",
      "Train loss:  0.09340707746644815 \t Train accuracy: 0.9444444444444444\n",
      "Val loss: 0.4496071594102042 \t Val accuracy: 0.8913690476190476\n",
      "EPOCH 60/1000\n",
      "Train loss:  0.1066719568024079 \t Train accuracy: 1.0\n",
      "Val loss: 0.3496864310332707 \t Val accuracy: 0.9077380952380952\n",
      "**********\n",
      "New best!\n",
      "**********\n",
      "EPOCH 61/1000\n",
      "Train loss:  0.0921904487742318 \t Train accuracy: 1.0\n",
      "Val loss: 0.35814506241253447 \t Val accuracy: 0.8943452380952381\n",
      "EPOCH 62/1000\n",
      "Train loss:  0.07858964242041111 \t Train accuracy: 0.8333333333333334\n",
      "Val loss: 0.3520002088376454 \t Val accuracy: 0.8913690476190476\n",
      "EPOCH 63/1000\n",
      "Train loss:  0.0902380854719215 \t Train accuracy: 0.8888888888888888\n",
      "Val loss: 0.3621044329234532 \t Val accuracy: 0.8988095238095238\n",
      "EPOCH 64/1000\n",
      "Train loss:  0.08720943936043316 \t Train accuracy: 1.0\n",
      "Val loss: 0.384270578622818 \t Val accuracy: 0.8973214285714286\n",
      "EPOCH 65/1000\n",
      "Train loss:  0.09021927968909343 \t Train accuracy: 0.9444444444444444\n",
      "Val loss: 0.4604890538113458 \t Val accuracy: 0.8839285714285714\n",
      "EPOCH 66/1000\n",
      "Train loss:  0.0906959612129463 \t Train accuracy: 0.8888888888888888\n",
      "Val loss: 0.42157926516873495 \t Val accuracy: 0.8943452380952381\n",
      "EPOCH 67/1000\n",
      "Train loss:  0.07777918068071206 \t Train accuracy: 1.0\n",
      "Val loss: 0.38892718510968344 \t Val accuracy: 0.8898809523809524\n",
      "EPOCH 68/1000\n",
      "Train loss:  0.07843454240096939 \t Train accuracy: 1.0\n",
      "Val loss: 0.37905221592102734 \t Val accuracy: 0.90625\n",
      "EPOCH 69/1000\n",
      "Train loss:  0.07084655197751191 \t Train accuracy: 0.8888888888888888\n",
      "Val loss: 0.3634959076132093 \t Val accuracy: 0.8898809523809524\n",
      "EPOCH 70/1000\n",
      "Train loss:  0.08293702045662535 \t Train accuracy: 1.0\n",
      "Val loss: 0.410661230129855 \t Val accuracy: 0.9077380952380952\n",
      "EPOCH 71/1000\n",
      "Train loss:  0.07813113209688001 \t Train accuracy: 1.0\n",
      "Val loss: 0.39572676750166075 \t Val accuracy: 0.8943452380952381\n",
      "EPOCH 72/1000\n",
      "Train loss:  0.06417623108459844 \t Train accuracy: 0.9444444444444444\n",
      "Val loss: 0.40892032134745804 \t Val accuracy: 0.8988095238095238\n",
      "EPOCH 73/1000\n",
      "Train loss:  0.07092143502086401 \t Train accuracy: 1.0\n",
      "Val loss: 0.404211873454707 \t Val accuracy: 0.8943452380952381\n",
      "EPOCH 74/1000\n",
      "Train loss:  0.06866882613135708 \t Train accuracy: 0.9444444444444444\n",
      "Val loss: 0.43647300478603157 \t Val accuracy: 0.8883928571428571\n",
      "EPOCH 75/1000\n",
      "Train loss:  0.06666262485086918 \t Train accuracy: 1.0\n",
      "Val loss: 0.47827719737376484 \t Val accuracy: 0.8824404761904762\n",
      "EPOCH 76/1000\n",
      "Train loss:  0.06832905978792243 \t Train accuracy: 0.9444444444444444\n",
      "Val loss: 0.3863676371318953 \t Val accuracy: 0.9032738095238095\n",
      "EPOCH 77/1000\n",
      "Train loss:  0.07534779045316908 \t Train accuracy: 1.0\n",
      "Val loss: 0.4819863938859531 \t Val accuracy: 0.8958333333333333\n",
      "EPOCH 78/1000\n",
      "Train loss:  0.08693648371845483 \t Train accuracy: 1.0\n",
      "Val loss: 0.42497616367680685 \t Val accuracy: 0.8883928571428571\n",
      "EPOCH 79/1000\n",
      "Train loss:  0.06313430476519796 \t Train accuracy: 1.0\n",
      "Val loss: 0.4260944958244051 \t Val accuracy: 0.8779761904761905\n",
      "EPOCH 80/1000\n",
      "Train loss:  0.06131909845603837 \t Train accuracy: 0.9444444444444444\n",
      "Val loss: 0.429523372224399 \t Val accuracy: 0.8883928571428571\n",
      "EPOCH 81/1000\n",
      "Train loss:  0.07154152821749449 \t Train accuracy: 1.0\n",
      "Val loss: 0.40981057392699377 \t Val accuracy: 0.8898809523809524\n",
      "EPOCH 82/1000\n",
      "Train loss:  0.05918685647969445 \t Train accuracy: 1.0\n",
      "Val loss: 0.4564651357276099 \t Val accuracy: 0.9032738095238095\n",
      "EPOCH 83/1000\n",
      "Train loss:  0.059190536083446606 \t Train accuracy: 1.0\n",
      "Val loss: 0.3733944296836853 \t Val accuracy: 0.9151785714285714\n",
      "EPOCH 84/1000\n",
      "Train loss:  0.07094435000585185 \t Train accuracy: 1.0\n",
      "Val loss: 0.39922997036150526 \t Val accuracy: 0.912202380952381\n",
      "EPOCH 85/1000\n",
      "Train loss:  0.06180405312528213 \t Train accuracy: 1.0\n",
      "Val loss: 0.43276177772453855 \t Val accuracy: 0.8943452380952381\n",
      "EPOCH 86/1000\n",
      "Train loss:  0.061785928387608796 \t Train accuracy: 1.0\n",
      "Val loss: 0.3945184775761196 \t Val accuracy: 0.8958333333333333\n",
      "EPOCH 87/1000\n",
      "Train loss:  0.057185545874138675 \t Train accuracy: 0.9444444444444444\n",
      "Val loss: 0.5191056451627186 \t Val accuracy: 0.8720238095238095\n",
      "EPOCH 88/1000\n",
      "Train loss:  0.046810437687155274 \t Train accuracy: 1.0\n",
      "Val loss: 0.4773933171693768 \t Val accuracy: 0.900297619047619\n",
      "EPOCH 89/1000\n",
      "Train loss:  0.04641331437354287 \t Train accuracy: 0.8888888888888888\n",
      "Val loss: 0.4655878416129521 \t Val accuracy: 0.8913690476190476\n",
      "EPOCH 90/1000\n",
      "Train loss:  0.05551677778777149 \t Train accuracy: 0.9444444444444444\n",
      "Val loss: 0.5181670252765928 \t Val accuracy: 0.8735119047619048\n",
      "EPOCH 91/1000\n",
      "Train loss:  0.06230836808681488 \t Train accuracy: 1.0\n",
      "Val loss: 0.5197631078107017 \t Val accuracy: 0.8675595238095238\n",
      "EPOCH 92/1000\n",
      "Train loss:  0.053700397681030965 \t Train accuracy: 1.0\n",
      "Val loss: 0.44939338096550535 \t Val accuracy: 0.8898809523809524\n",
      "EPOCH 93/1000\n",
      "Train loss:  0.056621792105336986 \t Train accuracy: 0.9444444444444444\n",
      "Val loss: 0.3857760884399925 \t Val accuracy: 0.9107142857142857\n",
      "EPOCH 94/1000\n",
      "Train loss:  0.0486423286402391 \t Train accuracy: 0.9444444444444444\n",
      "Val loss: 0.5129238877977643 \t Val accuracy: 0.9047619047619048\n",
      "EPOCH 95/1000\n",
      "Train loss:  0.04844733362810479 \t Train accuracy: 0.9444444444444444\n",
      "Val loss: 0.44055825897625517 \t Val accuracy: 0.8943452380952381\n",
      "EPOCH 96/1000\n",
      "Train loss:  0.05391753429753913 \t Train accuracy: 1.0\n",
      "Val loss: 0.3964409487588065 \t Val accuracy: 0.90625\n",
      "EPOCH 97/1000\n",
      "Train loss:  0.03577132422683967 \t Train accuracy: 0.9444444444444444\n",
      "Val loss: 0.3772708377135651 \t Val accuracy: 0.9151785714285714\n",
      "EPOCH 98/1000\n",
      "Train loss:  0.04252345202904609 \t Train accuracy: 1.0\n",
      "Val loss: 0.4350793106215341 \t Val accuracy: 0.9107142857142857\n",
      "EPOCH 99/1000\n",
      "Train loss:  0.04421383679533998 \t Train accuracy: 1.0\n",
      "Val loss: 0.5372489052159446 \t Val accuracy: 0.8928571428571429\n",
      "EPOCH 100/1000\n",
      "Train loss:  0.04124513136015998 \t Train accuracy: 1.0\n",
      "Val loss: 0.41424623344625744 \t Val accuracy: 0.8869047619047619\n",
      "EPOCH 101/1000\n",
      "Train loss:  0.04281536035446657 \t Train accuracy: 1.0\n",
      "Val loss: 0.42048358943845543 \t Val accuracy: 0.90625\n",
      "EPOCH 102/1000\n",
      "Train loss:  0.04900590038547913 \t Train accuracy: 0.9444444444444444\n",
      "Val loss: 0.491536126605102 \t Val accuracy: 0.8869047619047619\n",
      "EPOCH 103/1000\n",
      "Train loss:  0.04561434000109633 \t Train accuracy: 1.0\n",
      "Val loss: 0.46280331909656525 \t Val accuracy: 0.900297619047619\n",
      "EPOCH 104/1000\n",
      "Train loss:  0.04258152853904499 \t Train accuracy: 0.9444444444444444\n",
      "Val loss: 0.4830439346177237 \t Val accuracy: 0.8988095238095238\n",
      "EPOCH 105/1000\n",
      "Train loss:  0.05248726241083609 \t Train accuracy: 1.0\n",
      "Val loss: 0.5138574263879231 \t Val accuracy: 0.8854166666666667\n",
      "EPOCH 106/1000\n",
      "Train loss:  0.0389069774084621 \t Train accuracy: 1.0\n",
      "Val loss: 0.4013672210276127 \t Val accuracy: 0.90625\n",
      "EPOCH 107/1000\n",
      "Train loss:  0.035041902917954657 \t Train accuracy: 1.0\n",
      "Val loss: 0.4021261004464967 \t Val accuracy: 0.9196428571428571\n",
      "EPOCH 108/1000\n",
      "Train loss:  0.0437277275758485 \t Train accuracy: 1.0\n",
      "Val loss: 0.4514907558581659 \t Val accuracy: 0.9151785714285714\n",
      "EPOCH 109/1000\n",
      "Train loss:  0.04299466168611414 \t Train accuracy: 1.0\n",
      "Val loss: 0.48209274879523684 \t Val accuracy: 0.900297619047619\n",
      "EPOCH 110/1000\n",
      "Train loss:  0.0414746566158202 \t Train accuracy: 1.0\n",
      "Val loss: 0.4824555963277817 \t Val accuracy: 0.8869047619047619\n",
      "EPOCH 111/1000\n",
      "Train loss:  0.0374051171199729 \t Train accuracy: 1.0\n",
      "Val loss: 0.4797014689871243 \t Val accuracy: 0.8943452380952381\n",
      "EPOCH 112/1000\n",
      "Train loss:  0.03334149651022421 \t Train accuracy: 1.0\n",
      "Val loss: 0.3984423109463283 \t Val accuracy: 0.9017857142857143\n",
      "EPOCH 113/1000\n",
      "Train loss:  0.04225031194380588 \t Train accuracy: 1.0\n",
      "Val loss: 0.5400557004447494 \t Val accuracy: 0.8854166666666667\n",
      "EPOCH 114/1000\n",
      "Train loss:  0.040625201548553175 \t Train accuracy: 1.0\n",
      "Val loss: 0.46524678596428465 \t Val accuracy: 0.8958333333333333\n",
      "EPOCH 115/1000\n",
      "Train loss:  0.03189592514342318 \t Train accuracy: 0.9444444444444444\n",
      "Val loss: 0.4383074407066618 \t Val accuracy: 0.9032738095238095\n",
      "EPOCH 116/1000\n",
      "Train loss:  0.04134144622625576 \t Train accuracy: 1.0\n",
      "Val loss: 0.3760181761213711 \t Val accuracy: 0.9032738095238095\n",
      "EPOCH 117/1000\n",
      "Train loss:  0.13359541630682845 \t Train accuracy: 0.9444444444444444\n",
      "Val loss: 0.4456335199730737 \t Val accuracy: 0.8958333333333333\n",
      "EPOCH 118/1000\n",
      "Train loss:  0.07528145445717706 \t Train accuracy: 0.9444444444444444\n",
      "Val loss: 0.4509418420493603 \t Val accuracy: 0.8958333333333333\n",
      "EPOCH 119/1000\n",
      "Train loss:  0.051437902647174065 \t Train accuracy: 1.0\n",
      "Val loss: 0.38609518110752106 \t Val accuracy: 0.9032738095238095\n",
      "EPOCH 120/1000\n",
      "Train loss:  0.047011908226543005 \t Train accuracy: 1.0\n",
      "Val loss: 0.3207595931099994 \t Val accuracy: 0.9151785714285714\n",
      "**********\n",
      "New best!\n",
      "**********\n",
      "EPOCH 121/1000\n",
      "Train loss:  0.03302324997882048 \t Train accuracy: 1.0\n",
      "Val loss: 0.40558201926095144 \t Val accuracy: 0.8839285714285714\n",
      "EPOCH 122/1000\n",
      "Train loss:  0.04750668271962139 \t Train accuracy: 1.0\n",
      "Val loss: 0.38293798693588804 \t Val accuracy: 0.9077380952380952\n",
      "EPOCH 123/1000\n",
      "Train loss:  0.047029590342814724 \t Train accuracy: 1.0\n",
      "Val loss: 0.3448786412897919 \t Val accuracy: 0.9241071428571429\n",
      "EPOCH 124/1000\n",
      "Train loss:  0.03911408013664186 \t Train accuracy: 1.0\n",
      "Val loss: 0.37383345261748346 \t Val accuracy: 0.90625\n",
      "EPOCH 125/1000\n",
      "Train loss:  0.03519084757814805 \t Train accuracy: 1.0\n",
      "Val loss: 0.40309453649180277 \t Val accuracy: 0.9032738095238095\n",
      "EPOCH 126/1000\n",
      "Train loss:  0.03187158396467567 \t Train accuracy: 1.0\n",
      "Val loss: 0.3417709842324257 \t Val accuracy: 0.9032738095238095\n",
      "EPOCH 127/1000\n",
      "Train loss:  0.026512044701828726 \t Train accuracy: 1.0\n",
      "Val loss: 0.3926669558776276 \t Val accuracy: 0.9151785714285714\n",
      "EPOCH 128/1000\n",
      "Train loss:  0.032905687919507424 \t Train accuracy: 1.0\n",
      "Val loss: 0.42593411675521303 \t Val accuracy: 0.912202380952381\n",
      "EPOCH 129/1000\n",
      "Train loss:  0.03986686301521129 \t Train accuracy: 0.9444444444444444\n",
      "Val loss: 0.4441706266786371 \t Val accuracy: 0.912202380952381\n",
      "EPOCH 130/1000\n",
      "Train loss:  0.03339263175407218 \t Train accuracy: 0.9444444444444444\n",
      "Val loss: 0.359751682728529 \t Val accuracy: 0.9151785714285714\n",
      "EPOCH 131/1000\n",
      "Train loss:  0.02397681463044137 \t Train accuracy: 1.0\n",
      "Val loss: 0.4370573216250965 \t Val accuracy: 0.9047619047619048\n",
      "EPOCH 132/1000\n",
      "Train loss:  0.028147926010812323 \t Train accuracy: 1.0\n",
      "Val loss: 0.49392632681078147 \t Val accuracy: 0.900297619047619\n",
      "EPOCH 133/1000\n",
      "Train loss:  0.035949333322544894 \t Train accuracy: 1.0\n",
      "Val loss: 0.4692696215850966 \t Val accuracy: 0.912202380952381\n",
      "EPOCH 134/1000\n",
      "Train loss:  0.02986069485131237 \t Train accuracy: 1.0\n",
      "Val loss: 0.3914411842290844 \t Val accuracy: 0.9107142857142857\n",
      "EPOCH 135/1000\n",
      "Train loss:  0.027678195832090247 \t Train accuracy: 0.9444444444444444\n",
      "Val loss: 0.4074525513819286 \t Val accuracy: 0.9032738095238095\n",
      "EPOCH 136/1000\n",
      "Train loss:  0.026508314804070527 \t Train accuracy: 1.0\n",
      "Val loss: 0.3886510484984943 \t Val accuracy: 0.9107142857142857\n",
      "EPOCH 137/1000\n",
      "Train loss:  0.02508715343558126 \t Train accuracy: 1.0\n",
      "Val loss: 0.45127974450588226 \t Val accuracy: 0.8824404761904762\n",
      "EPOCH 138/1000\n",
      "Train loss:  0.026142057409096094 \t Train accuracy: 1.0\n",
      "Val loss: 0.4546980511929308 \t Val accuracy: 0.9032738095238095\n",
      "EPOCH 139/1000\n",
      "Train loss:  0.02072120346646342 \t Train accuracy: 1.0\n",
      "Val loss: 0.38287019703005043 \t Val accuracy: 0.90625\n",
      "EPOCH 140/1000\n",
      "Train loss:  0.0274516966038694 \t Train accuracy: 1.0\n",
      "Val loss: 0.48578608887536184 \t Val accuracy: 0.8958333333333333\n",
      "EPOCH 141/1000\n",
      "Train loss:  0.028470767692973218 \t Train accuracy: 1.0\n",
      "Val loss: 0.3797593095805496 \t Val accuracy: 0.9107142857142857\n",
      "EPOCH 142/1000\n",
      "Train loss:  0.027674680322201717 \t Train accuracy: 1.0\n",
      "Val loss: 0.5161770709923336 \t Val accuracy: 0.9077380952380952\n",
      "EPOCH 143/1000\n",
      "Train loss:  0.023443201430038446 \t Train accuracy: 1.0\n",
      "Val loss: 0.6135827898979187 \t Val accuracy: 0.8824404761904762\n",
      "EPOCH 144/1000\n",
      "Train loss:  0.02823961543229719 \t Train accuracy: 1.0\n",
      "Val loss: 0.3827717851381749 \t Val accuracy: 0.90625\n",
      "EPOCH 145/1000\n",
      "Train loss:  0.031423317154662476 \t Train accuracy: 0.9444444444444444\n",
      "Val loss: 0.4543600380420685 \t Val accuracy: 0.8988095238095238\n",
      "EPOCH 146/1000\n",
      "Train loss:  0.023378512511650722 \t Train accuracy: 1.0\n",
      "Val loss: 0.5619291216135025 \t Val accuracy: 0.8764880952380952\n",
      "EPOCH 147/1000\n",
      "Train loss:  0.019250254389933413 \t Train accuracy: 1.0\n",
      "Val loss: 0.44944583092417034 \t Val accuracy: 0.900297619047619\n",
      "EPOCH 148/1000\n",
      "Train loss:  0.02226971306372434 \t Train accuracy: 1.0\n",
      "Val loss: 0.42473560558365925 \t Val accuracy: 0.9107142857142857\n",
      "EPOCH 149/1000\n",
      "Train loss:  0.018851553679754336 \t Train accuracy: 0.9444444444444444\n",
      "Val loss: 0.4207064669047083 \t Val accuracy: 0.9077380952380952\n",
      "EPOCH 150/1000\n",
      "Train loss:  0.0270708451875382 \t Train accuracy: 1.0\n",
      "Val loss: 0.5226435959339142 \t Val accuracy: 0.8735119047619048\n",
      "EPOCH 151/1000\n",
      "Train loss:  0.018468147213570773 \t Train accuracy: 1.0\n",
      "Val loss: 0.47825880335377796 \t Val accuracy: 0.9032738095238095\n",
      "EPOCH 152/1000\n",
      "Train loss:  0.025970008964132932 \t Train accuracy: 1.0\n",
      "Val loss: 0.4681489957230432 \t Val accuracy: 0.9077380952380952\n",
      "EPOCH 153/1000\n",
      "Train loss:  0.03271692712894744 \t Train accuracy: 1.0\n",
      "Val loss: 0.4619345563863005 \t Val accuracy: 0.9077380952380952\n",
      "EPOCH 154/1000\n",
      "Train loss:  0.03447246187263065 \t Train accuracy: 0.9444444444444444\n",
      "Val loss: 0.5263439523322242 \t Val accuracy: 0.9032738095238095\n",
      "EPOCH 155/1000\n",
      "Train loss:  0.024518652089561024 \t Train accuracy: 1.0\n",
      "Val loss: 0.5175724407391888 \t Val accuracy: 0.8943452380952381\n",
      "EPOCH 156/1000\n",
      "Train loss:  0.023603050912626915 \t Train accuracy: 1.0\n",
      "Val loss: 0.476777155484472 \t Val accuracy: 0.8839285714285714\n",
      "EPOCH 157/1000\n",
      "Train loss:  0.02095011531168388 \t Train accuracy: 1.0\n",
      "Val loss: 0.4116759874658393 \t Val accuracy: 0.9107142857142857\n",
      "EPOCH 158/1000\n",
      "Train loss:  0.01762712304480374 \t Train accuracy: 0.9444444444444444\n",
      "Val loss: 0.4249884145600455 \t Val accuracy: 0.9107142857142857\n",
      "EPOCH 159/1000\n",
      "Train loss:  0.021625372698892736 \t Train accuracy: 1.0\n",
      "Val loss: 0.49597554547446115 \t Val accuracy: 0.90625\n",
      "EPOCH 160/1000\n",
      "Train loss:  0.025407423485173948 \t Train accuracy: 1.0\n",
      "Val loss: 0.6151278551135745 \t Val accuracy: 0.8839285714285714\n",
      "EPOCH 161/1000\n",
      "Train loss:  0.02978463450498465 \t Train accuracy: 1.0\n",
      "Val loss: 0.5405939221382141 \t Val accuracy: 0.9047619047619048\n",
      "EPOCH 162/1000\n",
      "Train loss:  0.02346013660232226 \t Train accuracy: 1.0\n",
      "Val loss: 0.5320385332618441 \t Val accuracy: 0.8824404761904762\n",
      "EPOCH 163/1000\n",
      "Train loss:  0.020497295956334306 \t Train accuracy: 1.0\n",
      "Val loss: 0.5558904877730778 \t Val accuracy: 0.8943452380952381\n",
      "EPOCH 164/1000\n",
      "Train loss:  0.026469617333107938 \t Train accuracy: 1.0\n",
      "Val loss: 0.4983759775225605 \t Val accuracy: 0.9017857142857143\n",
      "EPOCH 165/1000\n",
      "Train loss:  0.023052142006862494 \t Train accuracy: 1.0\n",
      "Val loss: 0.6370193787983486 \t Val accuracy: 0.8854166666666667\n",
      "EPOCH 166/1000\n",
      "Train loss:  0.02336765810743802 \t Train accuracy: 1.0\n",
      "Val loss: 0.5109785839116999 \t Val accuracy: 0.8913690476190476\n",
      "EPOCH 167/1000\n",
      "Train loss:  0.018277296185907392 \t Train accuracy: 1.0\n",
      "Val loss: 0.5616285886083331 \t Val accuracy: 0.900297619047619\n",
      "EPOCH 168/1000\n",
      "Train loss:  0.021805049013346435 \t Train accuracy: 1.0\n",
      "Val loss: 0.4580977021583489 \t Val accuracy: 0.9196428571428571\n",
      "EPOCH 169/1000\n",
      "Train loss:  0.025246226112358272 \t Train accuracy: 1.0\n",
      "Val loss: 0.4283828469259398 \t Val accuracy: 0.9032738095238095\n",
      "EPOCH 170/1000\n",
      "Train loss:  0.024715460117699373 \t Train accuracy: 1.0\n",
      "Val loss: 0.5157345980405807 \t Val accuracy: 0.8988095238095238\n",
      "EPOCH 171/1000\n",
      "Train loss:  0.020565175184876553 \t Train accuracy: 1.0\n",
      "Val loss: 0.45238843453781946 \t Val accuracy: 0.9077380952380952\n",
      "EPOCH 172/1000\n",
      "Train loss:  0.015944506160707937 \t Train accuracy: 1.0\n",
      "Val loss: 0.4285102380173547 \t Val accuracy: 0.912202380952381\n",
      "EPOCH 173/1000\n",
      "Train loss:  0.01869290702872806 \t Train accuracy: 1.0\n",
      "Val loss: 0.48428554167704924 \t Val accuracy: 0.900297619047619\n",
      "EPOCH 174/1000\n",
      "Train loss:  0.017661908517281215 \t Train accuracy: 1.0\n",
      "Val loss: 0.4445029775545533 \t Val accuracy: 0.9107142857142857\n",
      "EPOCH 175/1000\n",
      "Train loss:  0.017191106461298962 \t Train accuracy: 0.9444444444444444\n",
      "Val loss: 0.5803668115820203 \t Val accuracy: 0.9077380952380952\n",
      "EPOCH 176/1000\n",
      "Train loss:  0.023161547352922047 \t Train accuracy: 1.0\n",
      "Val loss: 0.5518621307398591 \t Val accuracy: 0.90625\n",
      "EPOCH 177/1000\n",
      "Train loss:  0.02569257911398179 \t Train accuracy: 1.0\n",
      "Val loss: 0.5471678990870714 \t Val accuracy: 0.9107142857142857\n",
      "EPOCH 178/1000\n",
      "Train loss:  0.019174287840723992 \t Train accuracy: 1.0\n",
      "Val loss: 0.7091711770210948 \t Val accuracy: 0.8764880952380952\n",
      "EPOCH 179/1000\n",
      "Train loss:  0.020584080153558816 \t Train accuracy: 1.0\n",
      "Val loss: 0.5571584770722049 \t Val accuracy: 0.9107142857142857\n",
      "EPOCH 180/1000\n",
      "Train loss:  0.022185775998514144 \t Train accuracy: 0.9444444444444444\n",
      "Val loss: 0.42696281682167736 \t Val accuracy: 0.9151785714285714\n",
      "EPOCH 181/1000\n",
      "Train loss:  0.026813336037513284 \t Train accuracy: 1.0\n",
      "Val loss: 0.43814812820138677 \t Val accuracy: 0.9151785714285714\n",
      "EPOCH 182/1000\n",
      "Train loss:  0.020979825703478935 \t Train accuracy: 0.9444444444444444\n",
      "Val loss: 0.6829047085650798 \t Val accuracy: 0.8883928571428571\n",
      "EPOCH 183/1000\n",
      "Train loss:  0.01694557623575545 \t Train accuracy: 1.0\n",
      "Val loss: 0.6110121522630964 \t Val accuracy: 0.880952380952381\n",
      "EPOCH 184/1000\n",
      "Train loss:  0.017357082988342477 \t Train accuracy: 1.0\n",
      "Val loss: 0.6059023184435708 \t Val accuracy: 0.8883928571428571\n",
      "EPOCH 185/1000\n",
      "Train loss:  0.018260140356142075 \t Train accuracy: 1.0\n",
      "Val loss: 0.5950952023267746 \t Val accuracy: 0.8913690476190476\n",
      "EPOCH 186/1000\n",
      "Train loss:  0.010210713274621716 \t Train accuracy: 1.0\n",
      "Val loss: 0.6317652591637203 \t Val accuracy: 0.8928571428571429\n",
      "EPOCH 187/1000\n",
      "Train loss:  0.02143935696221888 \t Train accuracy: 1.0\n",
      "Val loss: 0.6097927178655352 \t Val accuracy: 0.8913690476190476\n",
      "EPOCH 188/1000\n",
      "Train loss:  0.01595665533354299 \t Train accuracy: 1.0\n",
      "Val loss: 0.5014822397913251 \t Val accuracy: 0.9077380952380952\n",
      "EPOCH 189/1000\n",
      "Train loss:  0.021093601131966958 \t Train accuracy: 1.0\n",
      "Val loss: 0.5150750151702336 \t Val accuracy: 0.9032738095238095\n",
      "EPOCH 190/1000\n",
      "Train loss:  0.019029770519894858 \t Train accuracy: 1.0\n",
      "Val loss: 0.5837088525295258 \t Val accuracy: 0.8958333333333333\n",
      "EPOCH 191/1000\n",
      "Train loss:  0.019655648656448144 \t Train accuracy: 0.9444444444444444\n",
      "Val loss: 0.5413784682750702 \t Val accuracy: 0.9032738095238095\n",
      "EPOCH 192/1000\n",
      "Train loss:  0.013287239644624707 \t Train accuracy: 1.0\n",
      "Val loss: 0.6245566893901143 \t Val accuracy: 0.8824404761904762\n",
      "EPOCH 193/1000\n",
      "Train loss:  0.013280744439301391 \t Train accuracy: 1.0\n",
      "Val loss: 0.7293198364121574 \t Val accuracy: 0.8913690476190476\n",
      "EPOCH 194/1000\n",
      "Train loss:  0.020331975512413517 \t Train accuracy: 1.0\n",
      "Val loss: 0.5109376014609422 \t Val accuracy: 0.9166666666666667\n",
      "EPOCH 195/1000\n",
      "Train loss:  0.0215450450234736 \t Train accuracy: 1.0\n",
      "Val loss: 0.5055629674877439 \t Val accuracy: 0.9032738095238095\n",
      "EPOCH 196/1000\n",
      "Train loss:  0.014137256805164118 \t Train accuracy: 1.0\n",
      "Val loss: 0.5018800039376531 \t Val accuracy: 0.9107142857142857\n",
      "EPOCH 197/1000\n",
      "Train loss:  0.012601716477527386 \t Train accuracy: 1.0\n",
      "Val loss: 0.47308194356654504 \t Val accuracy: 0.90625\n",
      "EPOCH 198/1000\n",
      "Train loss:  0.011038377503347066 \t Train accuracy: 1.0\n",
      "Val loss: 0.5372649346079145 \t Val accuracy: 0.8988095238095238\n",
      "EPOCH 199/1000\n",
      "Train loss:  0.01740153304999694 \t Train accuracy: 1.0\n",
      "Val loss: 0.6267912600721631 \t Val accuracy: 0.8839285714285714\n",
      "EPOCH 200/1000\n",
      "Train loss:  0.01204138283436704 \t Train accuracy: 1.0\n",
      "Val loss: 0.5879597323281425 \t Val accuracy: 0.9047619047619048\n",
      "EPOCH 201/1000\n",
      "Train loss:  0.01724357858377819 \t Train accuracy: 0.9444444444444444\n",
      "Val loss: 0.5246672758034298 \t Val accuracy: 0.8988095238095238\n",
      "EPOCH 202/1000\n",
      "Train loss:  0.013119134666501648 \t Train accuracy: 1.0\n",
      "Val loss: 0.6321464029273817 \t Val accuracy: 0.8883928571428571\n",
      "EPOCH 203/1000\n",
      "Train loss:  0.019109898381349112 \t Train accuracy: 1.0\n",
      "Val loss: 0.4722436372456806 \t Val accuracy: 0.9241071428571429\n",
      "EPOCH 204/1000\n",
      "Train loss:  0.012530065453352614 \t Train accuracy: 1.0\n",
      "Val loss: 0.46638634002634455 \t Val accuracy: 0.9107142857142857\n",
      "EPOCH 205/1000\n",
      "Train loss:  0.015784114396794596 \t Train accuracy: 1.0\n",
      "Val loss: 0.5562269099588905 \t Val accuracy: 0.8988095238095238\n",
      "EPOCH 206/1000\n",
      "Train loss:  0.014606044084454576 \t Train accuracy: 0.9444444444444444\n",
      "Val loss: 0.586618243583611 \t Val accuracy: 0.8913690476190476\n",
      "EPOCH 207/1000\n",
      "Train loss:  0.015439987687083582 \t Train accuracy: 1.0\n",
      "Val loss: 0.5618158685309547 \t Val accuracy: 0.8988095238095238\n",
      "EPOCH 208/1000\n",
      "Train loss:  0.014317594983408021 \t Train accuracy: 1.0\n",
      "Val loss: 0.5150482820879135 \t Val accuracy: 0.9107142857142857\n",
      "EPOCH 209/1000\n",
      "Train loss:  0.013223283612428026 \t Train accuracy: 1.0\n",
      "Val loss: 0.5851193315216473 \t Val accuracy: 0.9032738095238095\n",
      "EPOCH 210/1000\n",
      "Train loss:  0.013074354104335523 \t Train accuracy: 1.0\n",
      "Val loss: 0.7353113309613296 \t Val accuracy: 0.8928571428571429\n",
      "EPOCH 211/1000\n",
      "Train loss:  0.016082216428023658 \t Train accuracy: 1.0\n",
      "Val loss: 0.5886027898107257 \t Val accuracy: 0.9032738095238095\n",
      "EPOCH 212/1000\n",
      "Train loss:  0.018841547204647213 \t Train accuracy: 1.0\n",
      "Val loss: 0.4738841058154191 \t Val accuracy: 0.9196428571428571\n",
      "EPOCH 213/1000\n",
      "Train loss:  0.01323462080132837 \t Train accuracy: 1.0\n",
      "Val loss: 0.5857819249587399 \t Val accuracy: 0.8913690476190476\n",
      "EPOCH 214/1000\n",
      "Train loss:  0.009118974995281961 \t Train accuracy: 1.0\n",
      "Val loss: 0.4720267706683704 \t Val accuracy: 0.90625\n",
      "EPOCH 215/1000\n",
      "Train loss:  0.014370585502021842 \t Train accuracy: 1.0\n",
      "Val loss: 0.5425126999211248 \t Val accuracy: 0.9017857142857143\n",
      "EPOCH 216/1000\n",
      "Train loss:  0.015373513769979278 \t Train accuracy: 1.0\n",
      "Val loss: 0.5008721000381878 \t Val accuracy: 0.9241071428571429\n",
      "EPOCH 217/1000\n",
      "Train loss:  0.016933249951236778 \t Train accuracy: 1.0\n",
      "Val loss: 0.5198587285620826 \t Val accuracy: 0.8988095238095238\n",
      "EPOCH 218/1000\n",
      "Train loss:  0.016800525336940257 \t Train accuracy: 1.0\n",
      "Val loss: 0.5896300950220653 \t Val accuracy: 0.8883928571428571\n",
      "EPOCH 219/1000\n",
      "Train loss:  0.018651230721217063 \t Train accuracy: 1.0\n",
      "Val loss: 0.4846030450093427 \t Val accuracy: 0.9107142857142857\n",
      "EPOCH 220/1000\n",
      "Train loss:  0.0131743531803497 \t Train accuracy: 1.0\n",
      "Val loss: 0.5488558038403946 \t Val accuracy: 0.90625\n",
      "EPOCH 221/1000\n",
      "Train loss:  0.01027515770531156 \t Train accuracy: 1.0\n",
      "Val loss: 0.6103616207838058 \t Val accuracy: 0.9047619047619048\n",
      "Early stopping called!\n",
      "Training finished\n"
     ]
    }
   ],
   "source": [
    "from collections import defaultdict\n",
    "import copy\n",
    "\n",
    "\n",
    "history = defaultdict(list)\n",
    "best_val_loss = float('inf')  # Initialize with a large value\n",
    "best_val_acc = None\n",
    "best_model = None\n",
    "\n",
    "counter = 0\n",
    "\n",
    "for epoch in range(EPOCHS):\n",
    "    train_loss, train_acc = train_epoch(model, train_loader, loss_fn, optimizer, DEVICE)\n",
    "    val_loss, val_acc = eval_model(model, val_loader, loss_fn, DEVICE)\n",
    "    scheduler.step()\n",
    "\n",
    "    print(f\"EPOCH {epoch+1}/{EPOCHS}\")\n",
    "    print(f\"Train loss:  {train_loss} \\t Train accuracy: {train_acc}\")\n",
    "    print(f\"Val loss: {val_loss} \\t Val accuracy: {val_acc}\")\n",
    "\n",
    "    if val_loss < best_val_loss:\n",
    "        print('*'*10)\n",
    "        print('New best!')\n",
    "        print('*'*10)\n",
    "        best_val_loss = val_loss\n",
    "        best_val_acc = val_acc\n",
    "        best_model = copy.deepcopy(model.state_dict())\n",
    "        counter = 0\n",
    "    else:\n",
    "        counter += 1\n",
    "\n",
    "    if counter > 100:\n",
    "        print('Early stopping called!')\n",
    "        print('Training finished')\n",
    "        break\n",
    "\n",
    "    history['train_loss'].append(train_loss)\n",
    "    history['val_loss'].append(val_loss)\n"
   ]
  },
  {
   "cell_type": "code",
   "execution_count": 44,
   "metadata": {},
   "outputs": [
    {
     "name": "stdout",
     "output_type": "stream",
     "text": [
      "Best val loss: 0.3207595931099994\n",
      "Best val accuracy: 0.9151785714285714\n"
     ]
    }
   ],
   "source": [
    "print('Best val loss:', best_val_loss)\n",
    "print('Best val accuracy:', best_val_acc)\n"
   ]
  },
  {
   "cell_type": "code",
   "execution_count": 45,
   "metadata": {},
   "outputs": [
    {
     "data": {
      "text/plain": [
       "<All keys matched successfully>"
      ]
     },
     "execution_count": 45,
     "metadata": {},
     "output_type": "execute_result"
    }
   ],
   "source": [
    "model.load_state_dict(best_model)"
   ]
  },
  {
   "cell_type": "code",
   "execution_count": 46,
   "metadata": {},
   "outputs": [
    {
     "data": {
      "text/plain": [
       "<matplotlib.legend.Legend at 0x7419a50d2ce0>"
      ]
     },
     "execution_count": 46,
     "metadata": {},
     "output_type": "execute_result"
    },
    {
     "data": {
      "image/png": "[encoded data removed]",
      "text/plain": [
       "<Figure size 640x480 with 1 Axes>"
      ]
     },
     "metadata": {},
     "output_type": "display_data"
    }
   ],
   "source": [
    "sns.set_style('whitegrid')\n",
    "plt.plot(history['train_loss'], label = 'train CE')\n",
    "plt.plot(history['val_loss'], label = 'val CE')\n",
    "plt.ylabel('Loss')\n",
    "plt.xlabel('Epoch')\n",
    "\n",
    "plt.legend()"
   ]
  },
  {
   "cell_type": "code",
   "execution_count": 47,
   "metadata": {},
   "outputs": [],
   "source": [
    "with torch.no_grad():\n",
    "    y_pred = model(X_test.to(DEVICE))\n",
    "    y_pred_labels = oh.inverse_transform(y_pred.detach().cpu())\n",
    "\n",
    "y_test_labels = oh.inverse_transform(y_test)"
   ]
  },
  {
   "cell_type": "code",
   "execution_count": 48,
   "metadata": {},
   "outputs": [
    {
     "data": {
      "image/png": "[encoded data removed]",
      "text/plain": [
       "<Figure size 1600x1200 with 2 Axes>"
      ]
     },
     "metadata": {},
     "output_type": "display_data"
    }
   ],
   "source": [
    "sns.set_style('dark')\n",
    "cm = confusion_matrix(y_true= y_test_labels, y_pred = y_pred_labels)\n",
    "cm_disp = ConfusionMatrixDisplay(cm, display_labels=np.unique(y_test_labels))\n",
    "\n",
    "\n",
    "fig, ax = plt.subplots(figsize=(16, 12))\n",
    "cm_disp.plot(ax = ax, cmap = plt.cm.Blues)\n",
    "\n",
    "plt.xticks(rotation = 15, fontsize = 13)\n",
    "plt.yticks(fontsize = 13)\n",
    "plt.savefig('conf-mat-trans.png', format='png', dpi=600, transparent = True)\n",
    "plt.savefig('conf-mat.png', format='png', dpi=600, transparent = False)\n"
   ]
  },
  {
   "cell_type": "code",
   "execution_count": null,
   "metadata": {},
   "outputs": [],
   "source": []
  },
  {
   "cell_type": "code",
   "execution_count": null,
   "metadata": {},
   "outputs": [],
   "source": []
  },
  {
   "cell_type": "code",
   "execution_count": null,
   "metadata": {},
   "outputs": [],
   "source": []
  },
  {
   "cell_type": "code",
   "execution_count": null,
   "metadata": {},
   "outputs": [],
   "source": [
    "sdaasdasd"
   ]
  },
  {
   "cell_type": "code",
   "execution_count": null,
   "metadata": {},
   "outputs": [],
   "source": []
  },
  {
   "cell_type": "code",
   "execution_count": null,
   "metadata": {},
   "outputs": [],
   "source": []
  },
  {
   "cell_type": "code",
   "execution_count": 49,
   "metadata": {},
   "outputs": [
    {
     "name": "stdout",
     "output_type": "stream",
     "text": [
      "                precision    recall  f1-score   support\n",
      "\n",
      "air_background       0.94      1.00      0.97        17\n",
      " fake_euphoria       0.86      1.00      0.92        24\n",
      " fake_goodgirl       0.96      0.96      0.96        28\n",
      "   fake_theone       0.90      0.79      0.84        24\n",
      "     fake_ysly       1.00      1.00      1.00        22\n",
      "   og_euphoria       1.00      0.78      0.88        18\n",
      "   og_goodgirl       1.00      0.96      0.98        28\n",
      "     og_theone       0.86      0.90      0.88        21\n",
      "       og_ysly       0.92      1.00      0.96        22\n",
      "\n",
      "      accuracy                           0.94       204\n",
      "     macro avg       0.94      0.93      0.93       204\n",
      "  weighted avg       0.94      0.94      0.94       204\n",
      "\n"
     ]
    }
   ],
   "source": [
    "print(classification_report(y_true=y_test_labels, y_pred=y_pred_labels))"
   ]
  },
  {
   "cell_type": "code",
   "execution_count": null,
   "metadata": {},
   "outputs": [],
   "source": []
  }
 ],
 "metadata": {
  "kernelspec": {
   "display_name": "torch-cuda",
   "language": "python",
   "name": "python3"
  },
  "language_info": {
   "codemirror_mode": {
    "name": "ipython",
    "version": 3
   },
   "file_extension": ".py",
   "mimetype": "text/x-python",
   "name": "python",
   "nbconvert_exporter": "python",
   "pygments_lexer": "ipython3",
   "version": "3.10.14"
  }
 },
 "nbformat": 4,
 "nbformat_minor": 2
}
