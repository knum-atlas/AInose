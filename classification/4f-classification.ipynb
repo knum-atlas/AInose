{
 "cells": [
  {
   "cell_type": "markdown",
   "metadata": {},
   "source": [
    "# Classification for 8 classes (with all 4 features)\n",
    "`fake euphoria` vs `fake goodgirl` vs `fake ysly` vs `fake theone`\n",
    "\n",
    "`og_euphoria` vs `og_goodgirl` vs  `og ysly` vs `og_theone`"
   ]
  },
  {
   "cell_type": "code",
   "execution_count": 1,
   "metadata": {},
   "outputs": [],
   "source": [
    "import numpy as np\n",
    "from sklearn.preprocessing import OneHotEncoder\n",
    "\n",
    "from matplotlib import pyplot as plt \n",
    "\n",
    "import torch\n",
    "import torch.nn as nn\n",
    "from torch.utils.data import DataLoader, Dataset\n",
    "\n",
    "from sklearn.model_selection import train_test_split\n",
    "from sklearn.metrics import  confusion_matrix, ConfusionMatrixDisplay, classification_report"
   ]
  },
  {
   "cell_type": "code",
   "execution_count": 2,
   "metadata": {},
   "outputs": [],
   "source": [
    "dataset = np.load('../perfumes-dataset.npz', allow_pickle=True)['data'].tolist()\n",
    "dataset = [d for d in dataset if 'sauvage' not in d['name']] # exclude 'sauvage' as we dont have og to compare"
   ]
  },
  {
   "cell_type": "code",
   "execution_count": 3,
   "metadata": {},
   "outputs": [],
   "source": [
    "signals = [d['data'] for d in dataset]"
   ]
  },
  {
   "cell_type": "code",
   "execution_count": 4,
   "metadata": {},
   "outputs": [
    {
     "name": "stdout",
     "output_type": "stream",
     "text": [
      "Signals shape: (16, 8, 4, 10, 101)\n"
     ]
    }
   ],
   "source": [
    "signals_array = np.array(signals)\n",
    "\n",
    "print('Signals shape:', signals_array.shape)"
   ]
  },
  {
   "cell_type": "code",
   "execution_count": 5,
   "metadata": {},
   "outputs": [],
   "source": [
    "signals_array = np.transpose(signals_array, (0, 2, 1, 3, 4)) # perf, feature, channel, cycle_step, signal"
   ]
  },
  {
   "cell_type": "markdown",
   "metadata": {},
   "source": [
    "## Normalize data along sensor dimension "
   ]
  },
  {
   "cell_type": "code",
   "execution_count": 6,
   "metadata": {},
   "outputs": [],
   "source": [
    "perftype_splitted = []\n",
    "\n",
    "for perf in signals_array:\n",
    "    sensor_splitted = []\n",
    "    for sensor in perf:\n",
    "        cycle_splitted = []\n",
    "        for cycle in sensor:\n",
    "            channel_normalized = []\n",
    "            for channel in cycle:\n",
    "                mean_val = channel.mean()\n",
    "                std_val = channel.std()\n",
    "                normalized_val = (channel - mean_val) / std_val\n",
    "                channel_normalized.append(normalized_val)\n",
    "            cycle_splitted.append(channel_normalized)\n",
    "        sensor_splitted.append(cycle_splitted)\n",
    "    perftype_splitted.append(sensor_splitted)\n",
    "\n",
    "singals_normalized = np.array(perftype_splitted)\n"
   ]
  },
  {
   "cell_type": "code",
   "execution_count": 7,
   "metadata": {},
   "outputs": [],
   "source": [
    "# concatenate \n",
    "signals = []\n",
    "for perf in singals_normalized:\n",
    "    reshaped_resistancy = perf.reshape((4, 80, 101))\n",
    "    signals.append(reshaped_resistancy)\n",
    "\n",
    "signals = np.array(signals)"
   ]
  },
  {
   "cell_type": "code",
   "execution_count": 8,
   "metadata": {},
   "outputs": [
    {
     "data": {
      "text/plain": [
       "(16, 4, 80, 101)"
      ]
     },
     "execution_count": 8,
     "metadata": {},
     "output_type": "execute_result"
    }
   ],
   "source": [
    "signals.shape"
   ]
  },
  {
   "cell_type": "code",
   "execution_count": 9,
   "metadata": {},
   "outputs": [],
   "source": [
    "labels = [d['name'] for d in dataset]\n",
    "X = []\n",
    "y = []\n",
    "for res, lab in zip(signals, labels):\n",
    "    res = np.transpose(res, (1, 0, 2))\n",
    "    X.append(res)\n",
    "    y.append([lab]*80)\n",
    "\n",
    "X = np.array(X).reshape((16*80, 4, 101))\n",
    "y = np.array(y).reshape((16*80))\n"
   ]
  },
  {
   "cell_type": "code",
   "execution_count": 10,
   "metadata": {},
   "outputs": [
    {
     "data": {
      "text/plain": [
       "(1280, 4, 101)"
      ]
     },
     "execution_count": 10,
     "metadata": {},
     "output_type": "execute_result"
    }
   ],
   "source": [
    "X.shape"
   ]
  },
  {
   "cell_type": "code",
   "execution_count": 11,
   "metadata": {},
   "outputs": [],
   "source": [
    "y_ = [_.split('_')[0:2] for _ in y]\n",
    "y_ = [x[0] + '_' + x[1] for x in y_]\n",
    "y = np.array(y_)"
   ]
  },
  {
   "cell_type": "code",
   "execution_count": 12,
   "metadata": {},
   "outputs": [],
   "source": [
    "oh = OneHotEncoder(sparse_output=True)\n",
    "oh = oh.fit(y.reshape(-1, 1))\n",
    "\n",
    "\n",
    "y = oh.transform(y.reshape(-1, 1))\n",
    "y = y.toarray()"
   ]
  },
  {
   "cell_type": "code",
   "execution_count": 13,
   "metadata": {},
   "outputs": [
    {
     "data": {
      "text/plain": [
       "((1280, 4, 101), (1280, 8))"
      ]
     },
     "execution_count": 13,
     "metadata": {},
     "output_type": "execute_result"
    }
   ],
   "source": [
    "X.shape, y.shape"
   ]
  },
  {
   "cell_type": "code",
   "execution_count": 14,
   "metadata": {},
   "outputs": [],
   "source": [
    "class TimeSeriesDataset(Dataset):\n",
    "    def __init__(self, X, y):\n",
    "        self.X = X\n",
    "        self.y = y\n",
    "    def __len__(self):\n",
    "        return len(self.X)\n",
    "    \n",
    "    def __getitem__(self, idx):\n",
    "        return torch.FloatTensor(self.X[idx]), self.y[idx]"
   ]
  },
  {
   "cell_type": "code",
   "execution_count": 15,
   "metadata": {},
   "outputs": [],
   "source": [
    "np.random.seed(2023)\n",
    "permutation_idx = np.random.randint(low = 0, high = len(X), size = len(X)) \n",
    "\n",
    "X = X[permutation_idx]\n",
    "y = y[permutation_idx]"
   ]
  },
  {
   "cell_type": "code",
   "execution_count": 16,
   "metadata": {},
   "outputs": [],
   "source": [
    "X = torch.tensor(X).to(torch.float32)\n",
    "y = torch.tensor(y, dtype = torch.float16)\n",
    "\n",
    "\n",
    "X_train, X_test, y_train, y_test = train_test_split(X, y, test_size=0.3, random_state=2024)\n",
    "X_val, X_test, y_val, y_test = train_test_split(X_test, y_test, test_size=0.5, random_state=2024)"
   ]
  },
  {
   "cell_type": "code",
   "execution_count": 17,
   "metadata": {},
   "outputs": [
    {
     "name": "stdout",
     "output_type": "stream",
     "text": [
      "Train dataset shape; torch.Size([896, 4, 101])\n",
      "Val dataset shape; torch.Size([192, 4, 101])\n",
      "Test dataset shape; torch.Size([192, 4, 101])\n"
     ]
    }
   ],
   "source": [
    "print('Train dataset shape;', X_train.shape)\n",
    "print('Val dataset shape;', X_val.shape)\n",
    "print('Test dataset shape;', X_test.shape)\n"
   ]
  },
  {
   "cell_type": "code",
   "execution_count": 18,
   "metadata": {},
   "outputs": [],
   "source": [
    "noised_signals = []\n",
    "noised_labels = []\n",
    "orig_x = []\n",
    "for x, y in zip(X_train, y_train):\n",
    "    p = np.random.randint(0, 100, 1)\n",
    "    if p % 2 == 0:\n",
    "        x_noised = []\n",
    "        for feature in x:\n",
    "            noise = np.random.normal(loc = 0, scale = x.std()/8, size = channel.shape[0])\n",
    "            feature_noised = feature + noise\n",
    "            x_noised.append(feature_noised)\n",
    "        x_noised = np.array(x_noised)\n",
    "        noised_signals.append(x_noised)\n",
    "        noised_labels.append(y)\n",
    "        orig_x.append(x)\n",
    "\n",
    "noised_signals = np.array(noised_signals)\n",
    "noised_labels = np.array(noised_labels)"
   ]
  },
  {
   "cell_type": "code",
   "execution_count": 19,
   "metadata": {},
   "outputs": [
    {
     "data": {
      "text/plain": [
       "(448, 4, 101)"
      ]
     },
     "execution_count": 19,
     "metadata": {},
     "output_type": "execute_result"
    }
   ],
   "source": [
    "noised_signals.shape"
   ]
  },
  {
   "cell_type": "code",
   "execution_count": 20,
   "metadata": {},
   "outputs": [
    {
     "data": {
      "text/plain": [
       "<matplotlib.legend.Legend at 0x73790751e980>"
      ]
     },
     "execution_count": 20,
     "metadata": {},
     "output_type": "execute_result"
    },
    {
     "data": {
      "image/png": "[encoded data removed]",
      "text/plain": [
       "<Figure size 1200x900 with 4 Axes>"
      ]
     },
     "metadata": {},
     "output_type": "display_data"
    }
   ],
   "source": [
    "np.random.seed(20322)\n",
    "idx = np.random.randint(0, len(noised_signals), size = 1)\n",
    "\n",
    "x_noised = noised_signals[idx].squeeze()\n",
    "x_orig = np.array(orig_x[idx[0]])\n",
    "\n",
    "import seaborn as sns\n",
    "# sns.set_style('ticks')\n",
    "fig, axes = plt.subplots(nrows= 2, ncols = 2, figsize = (12, 9))\n",
    "\n",
    "axes = axes.flatten()\n",
    "\n",
    "# for x, xn in zip(x_orig, x_noised):\n",
    "#     # print(x.shape)\n",
    "FEATURES = ['Rezystancja', 'Temperatura', 'Ciśnienie', 'Wilgotność']\n",
    "for i, (x, xn) in enumerate(zip(x_orig, x_noised)):\n",
    "    # print(x.shape)\n",
    "    axes[i].plot(x[:40], label = 'Sygnał')\n",
    "    axes[i].plot(xn[:40], label = 'Zaszumiony sygnał')\n",
    "    axes[i].set_title(FEATURES[i])\n",
    "\n",
    "plt.legend(loc='upper center', bbox_to_anchor=(0, -0.25), fancybox=True, shadow=True, ncol=2)\n",
    "\n",
    "\n",
    "# # plot noised and original signal on canvas\n",
    "# sns.set_style('ticks')\n",
    "# plt.figure(figsize=(12, 9))\n",
    "\n",
    "# plt.plot(x.flatten()[:40], label = 'Sygnał')\n",
    "# plt.plot(x_noised.flatten()[:40], label = 'Zaszumiony sygnał')\n",
    "\n",
    "# plt.xlabel('t')\n",
    "# plt.ylabel('Znormalizowana rezystancja')\n",
    "\n",
    "# plt.legend(loc = 'best')\n"
   ]
  },
  {
   "cell_type": "code",
   "execution_count": 21,
   "metadata": {},
   "outputs": [
    {
     "name": "stdout",
     "output_type": "stream",
     "text": [
      "Noised samples: 448\n"
     ]
    }
   ],
   "source": [
    "print('Noised samples:', noised_signals.shape[0])"
   ]
  },
  {
   "cell_type": "code",
   "execution_count": 22,
   "metadata": {},
   "outputs": [],
   "source": [
    "X_train = torch.row_stack((X_train, torch.tensor(noised_signals))).to(torch.float32)\n",
    "y_train = torch.row_stack((y_train, torch.tensor(noised_labels)))\n"
   ]
  },
  {
   "cell_type": "code",
   "execution_count": 23,
   "metadata": {},
   "outputs": [
    {
     "name": "stdout",
     "output_type": "stream",
     "text": [
      "New train shape: torch.Size([1344, 4, 101])\n"
     ]
    }
   ],
   "source": [
    "print('New train shape:', X_train.shape)"
   ]
  },
  {
   "cell_type": "code",
   "execution_count": 24,
   "metadata": {},
   "outputs": [],
   "source": [
    "xxxx = torch.rand((64, 101, 4))"
   ]
  },
  {
   "cell_type": "code",
   "execution_count": 25,
   "metadata": {},
   "outputs": [
    {
     "data": {
      "text/plain": [
       "torch.Size([64, 4, 101])"
      ]
     },
     "execution_count": 25,
     "metadata": {},
     "output_type": "execute_result"
    }
   ],
   "source": [
    "torch.transpose(xxxx, 1, 2).shape"
   ]
  },
  {
   "cell_type": "code",
   "execution_count": 26,
   "metadata": {},
   "outputs": [
    {
     "data": {
      "text/plain": [
       "torch.Size([1344, 4, 101])"
      ]
     },
     "execution_count": 26,
     "metadata": {},
     "output_type": "execute_result"
    }
   ],
   "source": [
    "X_train.shape"
   ]
  },
  {
   "cell_type": "code",
   "execution_count": 27,
   "metadata": {},
   "outputs": [],
   "source": [
    "X_train = torch.transpose(X_train, 1, 2)\n",
    "X_val = torch.transpose(X_val, 1, 2)\n",
    "X_test = torch.transpose(X_test, 1, 2)"
   ]
  },
  {
   "cell_type": "code",
   "execution_count": 28,
   "metadata": {},
   "outputs": [
    {
     "data": {
      "text/plain": [
       "(torch.Size([1344, 101, 4]),\n",
       " torch.Size([192, 101, 4]),\n",
       " torch.Size([192, 101, 4]))"
      ]
     },
     "execution_count": 28,
     "metadata": {},
     "output_type": "execute_result"
    }
   ],
   "source": [
    "X_train.shape, X_val.shape, X_test.shape"
   ]
  },
  {
   "cell_type": "code",
   "execution_count": 76,
   "metadata": {},
   "outputs": [],
   "source": [
    "class PerfumeClassifier(nn.Module):\n",
    "    def __init__(self):\n",
    "        super().__init__()\n",
    "        self.lstm1 = nn.LSTM(input_size=4, hidden_size=16, batch_first=True)\n",
    "        # self.lstm1.flatten_parameters()\n",
    "        self.flat = nn.Flatten()\n",
    "        self.drop = nn.Dropout(0.4)\n",
    "        self.dense1 = nn.Linear(16*101, 64)\n",
    "        self.relu1 = nn.ReLU()\n",
    "\n",
    "        \n",
    "        self.out = nn.Linear(64, 8)\n",
    "\n",
    "    def forward(self, x):\n",
    "        # outputs = x\n",
    "        outputs, _ = self.lstm1(x)\n",
    "        outputs = self.flat(outputs)\n",
    "        outputs = self.drop(outputs)\n",
    "\n",
    "        outputs = self.relu1(self.dense1(outputs))\n",
    "\n",
    "        outputs = self.out(outputs)\n",
    "        return outputs"
   ]
  },
  {
   "cell_type": "code",
   "execution_count": 77,
   "metadata": {},
   "outputs": [
    {
     "data": {
      "text/plain": [
       "torch.Size([64, 8])"
      ]
     },
     "execution_count": 77,
     "metadata": {},
     "output_type": "execute_result"
    }
   ],
   "source": [
    "model = PerfumeClassifier().to('cuda')\n",
    "\n",
    "xx = torch.rand((64, 101, 4)).to('cuda')\n",
    "\n",
    "model(xx).shape"
   ]
  },
  {
   "cell_type": "code",
   "execution_count": 78,
   "metadata": {},
   "outputs": [],
   "source": [
    "BATCH_SIZE = 32\n",
    "\n",
    "\n",
    "train_dataset = TimeSeriesDataset(X_train, y_train)\n",
    "train_loader = DataLoader(train_dataset, batch_size=BATCH_SIZE, shuffle=True)\n",
    "\n",
    "val_dataset = TimeSeriesDataset(X_val, y_val)\n",
    "val_loader = DataLoader(val_dataset, batch_size=BATCH_SIZE, shuffle=True)\n",
    "\n",
    "test_dataset = TimeSeriesDataset(X_test, y_test)\n",
    "test_loader = DataLoader(test_dataset, batch_size=BATCH_SIZE, shuffle=True)\n"
   ]
  },
  {
   "cell_type": "code",
   "execution_count": 79,
   "metadata": {},
   "outputs": [
    {
     "name": "stderr",
     "output_type": "stream",
     "text": [
      "/tmp/ipykernel_60885/75059746.py:4: UserWarning: To copy construct from a tensor, it is recommended to use sourceTensor.clone().detach() or sourceTensor.clone().detach().requires_grad_(True), rather than torch.tensor(sourceTensor).\n",
      "  xx = torch.tensor(xx)\n"
     ]
    }
   ],
   "source": [
    "model = PerfumeClassifier().to('cuda')\n",
    "for d in train_loader:\n",
    "    xx, yy = d\n",
    "    xx = torch.tensor(xx)\n",
    "    o = model(xx.to('cuda'))"
   ]
  },
  {
   "cell_type": "code",
   "execution_count": 80,
   "metadata": {},
   "outputs": [],
   "source": [
    "def train_epoch(model, data_loader, loss_fn, optimizer, device):\n",
    "    model = model.train()\n",
    "    losses = []\n",
    "    accs = []\n",
    "    for i, batch in enumerate(data_loader):\n",
    "        X, y = batch\n",
    "        X, y = X.to(device), y.to(device)\n",
    "\n",
    "        outputs = model(X)\n",
    "\n",
    "        loss = loss_fn(outputs, y)\n",
    "        loss.backward()\n",
    "        \n",
    "        optimizer.step()\n",
    "        optimizer.zero_grad()\n",
    "\n",
    "\n",
    "        y_truth = torch.where(y != 0)[1]\n",
    "        y_pred = torch.max(outputs, 1)[1]\n",
    "\n",
    "\n",
    "        total_correct = (y_truth == y_pred).sum().item()\n",
    "        total_samples = y.size(0)\n",
    "        \n",
    "        accuracy = total_correct / total_samples\n",
    "        \n",
    "        losses.append(loss.item())\n",
    "        accs.append(accuracy)\n",
    "\n",
    "\n",
    "    return np.mean(losses), np.mean(accuracy)\n",
    "\n",
    "\n",
    "\n",
    "def eval_model(model, data_loader, loss_fn, device):\n",
    "    model = model.eval()\n",
    "\n",
    "    losses = []\n",
    "    accs = []\n",
    "    for i, batch in enumerate(data_loader):\n",
    "        X, y = batch\n",
    "        X, y = X.to(device), y.to(device)\n",
    "\n",
    "        outputs = model(X)\n",
    "\n",
    "        loss = loss_fn(outputs, y)\n",
    "    \n",
    "        y_truth = torch.where(y != 0)[1]\n",
    "        y_pred = torch.max(outputs, 1)[1]\n",
    "\n",
    "        total_correct = (y_truth == y_pred).sum().item()\n",
    "        total_samples = y.size(0)\n",
    "        \n",
    "        accuracy = total_correct / total_samples\n",
    "        \n",
    "\n",
    "        losses.append(loss.item())\n",
    "        accs.append(accuracy)\n",
    "\n",
    "    return np.mean(losses), np.mean(accs)\n"
   ]
  },
  {
   "cell_type": "code",
   "execution_count": 81,
   "metadata": {},
   "outputs": [],
   "source": [
    "EPOCHS = 1000\n",
    "LR = 1e-3\n",
    "DEVICE = 'cuda' if torch.cuda.is_available() else 'cpu'\n",
    "# DEVICE = 'cpu'\n",
    "model = PerfumeClassifier()\n",
    "model = model.to(DEVICE)\n",
    "\n",
    "\n",
    "optimizer = torch.optim.AdamW(model.parameters(), lr=LR)\n",
    "scheduler = torch.optim.lr_scheduler.StepLR(optimizer, step_size=20, gamma = 0.9)\n",
    "\n",
    "loss_fn = nn.CrossEntropyLoss()\n"
   ]
  },
  {
   "cell_type": "code",
   "execution_count": 82,
   "metadata": {},
   "outputs": [
    {
     "name": "stdout",
     "output_type": "stream",
     "text": [
      "EPOCH 1/1000\n",
      "Train loss:  1.746932069460551 \t Train accuracy: 0.375\n",
      "Val loss: 1.516809304555257 \t Val accuracy: 0.4427083333333333\n",
      "**********\n",
      "New best!\n",
      "**********\n",
      "EPOCH 2/1000\n",
      "Train loss:  1.3789688377153306 \t Train accuracy: 0.4375\n",
      "Val loss: 1.2905609409014385 \t Val accuracy: 0.5625\n",
      "**********\n",
      "New best!\n",
      "**********\n",
      "EPOCH 3/1000\n",
      "Train loss:  1.150932742016656 \t Train accuracy: 0.65625\n",
      "Val loss: 1.154659370581309 \t Val accuracy: 0.5364583333333334\n",
      "**********\n",
      "New best!\n",
      "**********\n",
      "EPOCH 4/1000\n",
      "Train loss:  0.9822698022638049 \t Train accuracy: 0.6875\n",
      "Val loss: 1.003874550263087 \t Val accuracy: 0.6614583333333334\n",
      "**********\n",
      "New best!\n",
      "**********\n",
      "EPOCH 5/1000\n",
      "Train loss:  0.8961214408988044 \t Train accuracy: 0.71875\n",
      "Val loss: 0.9141782720883688 \t Val accuracy: 0.7239583333333334\n",
      "**********\n",
      "New best!\n",
      "**********\n",
      "EPOCH 6/1000\n",
      "Train loss:  0.7583051040059045 \t Train accuracy: 0.71875\n",
      "Val loss: 0.8176046907901764 \t Val accuracy: 0.703125\n",
      "**********\n",
      "New best!\n",
      "**********\n",
      "EPOCH 7/1000\n",
      "Train loss:  0.6799635858762831 \t Train accuracy: 0.65625\n",
      "Val loss: 0.7188786566257477 \t Val accuracy: 0.7916666666666666\n",
      "**********\n",
      "New best!\n",
      "**********\n",
      "EPOCH 8/1000\n",
      "Train loss:  0.6271717768339884 \t Train accuracy: 0.84375\n",
      "Val loss: 0.6928899586200714 \t Val accuracy: 0.8072916666666666\n",
      "**********\n",
      "New best!\n",
      "**********\n",
      "EPOCH 9/1000\n",
      "Train loss:  0.5525571051098052 \t Train accuracy: 0.84375\n",
      "Val loss: 0.6199851334095001 \t Val accuracy: 0.7760416666666666\n",
      "**********\n",
      "New best!\n",
      "**********\n",
      "EPOCH 10/1000\n",
      "Train loss:  0.5127011452402387 \t Train accuracy: 0.84375\n",
      "Val loss: 0.5614790717760721 \t Val accuracy: 0.8229166666666666\n",
      "**********\n",
      "New best!\n",
      "**********\n",
      "EPOCH 11/1000\n",
      "Train loss:  0.4685066682951791 \t Train accuracy: 0.8125\n",
      "Val loss: 0.5767035782337189 \t Val accuracy: 0.8229166666666666\n",
      "EPOCH 12/1000\n",
      "Train loss:  0.4417774067038581 \t Train accuracy: 0.875\n",
      "Val loss: 0.5521997660398483 \t Val accuracy: 0.8072916666666666\n",
      "**********\n",
      "New best!\n",
      "**********\n",
      "EPOCH 13/1000\n",
      "Train loss:  0.41439476644708995 \t Train accuracy: 0.90625\n",
      "Val loss: 0.5310603082180023 \t Val accuracy: 0.84375\n",
      "**********\n",
      "New best!\n",
      "**********\n",
      "EPOCH 14/1000\n",
      "Train loss:  0.3626907517512639 \t Train accuracy: 0.90625\n",
      "Val loss: 0.5214824825525284 \t Val accuracy: 0.8645833333333334\n",
      "**********\n",
      "New best!\n",
      "**********\n",
      "EPOCH 15/1000\n",
      "Train loss:  0.3631673302678835 \t Train accuracy: 0.90625\n",
      "Val loss: 0.48530344665050507 \t Val accuracy: 0.859375\n",
      "**********\n",
      "New best!\n",
      "**********\n",
      "EPOCH 16/1000\n",
      "Train loss:  0.3309356305925619 \t Train accuracy: 0.875\n",
      "Val loss: 0.40897009521722794 \t Val accuracy: 0.8802083333333334\n",
      "**********\n",
      "New best!\n",
      "**********\n",
      "EPOCH 17/1000\n",
      "Train loss:  0.31794928049757365 \t Train accuracy: 0.90625\n",
      "Val loss: 0.42090978225072223 \t Val accuracy: 0.8802083333333334\n",
      "EPOCH 18/1000\n",
      "Train loss:  0.3065813918198858 \t Train accuracy: 0.9375\n",
      "Val loss: 0.4277239665389061 \t Val accuracy: 0.859375\n",
      "EPOCH 19/1000\n",
      "Train loss:  0.27438734826587496 \t Train accuracy: 0.8125\n",
      "Val loss: 0.40352992216746014 \t Val accuracy: 0.8645833333333334\n",
      "**********\n",
      "New best!\n",
      "**********\n",
      "EPOCH 20/1000\n",
      "Train loss:  0.27980048173949834 \t Train accuracy: 0.90625\n",
      "Val loss: 0.4343728224436442 \t Val accuracy: 0.8645833333333334\n",
      "EPOCH 21/1000\n",
      "Train loss:  0.2678070423148927 \t Train accuracy: 0.90625\n",
      "Val loss: 0.41003785530726117 \t Val accuracy: 0.8697916666666666\n",
      "EPOCH 22/1000\n",
      "Train loss:  0.2515450400255975 \t Train accuracy: 0.875\n",
      "Val loss: 0.3578689768910408 \t Val accuracy: 0.9010416666666666\n",
      "**********\n",
      "New best!\n",
      "**********\n",
      "EPOCH 23/1000\n",
      "Train loss:  0.21379267956529344 \t Train accuracy: 0.9375\n",
      "Val loss: 0.37746013700962067 \t Val accuracy: 0.890625\n",
      "EPOCH 24/1000\n",
      "Train loss:  0.21721103929338 \t Train accuracy: 0.9375\n",
      "Val loss: 0.35104743887980777 \t Val accuracy: 0.8958333333333334\n",
      "**********\n",
      "New best!\n",
      "**********\n",
      "EPOCH 25/1000\n",
      "Train loss:  0.20503849695835794 \t Train accuracy: 0.9375\n",
      "Val loss: 0.387429915368557 \t Val accuracy: 0.90625\n",
      "EPOCH 26/1000\n",
      "Train loss:  0.17760109670815014 \t Train accuracy: 1.0\n",
      "Val loss: 0.4211610058943431 \t Val accuracy: 0.8697916666666666\n",
      "EPOCH 27/1000\n",
      "Train loss:  0.20064630749679746 \t Train accuracy: 0.90625\n",
      "Val loss: 0.339391087492307 \t Val accuracy: 0.890625\n",
      "**********\n",
      "New best!\n",
      "**********\n",
      "EPOCH 28/1000\n",
      "Train loss:  0.1645677616553647 \t Train accuracy: 0.90625\n",
      "Val loss: 0.3189541275302569 \t Val accuracy: 0.9166666666666666\n",
      "**********\n",
      "New best!\n",
      "**********\n",
      "EPOCH 29/1000\n",
      "Train loss:  0.18739383525791622 \t Train accuracy: 0.875\n",
      "Val loss: 0.33736292521158856 \t Val accuracy: 0.8958333333333334\n",
      "EPOCH 30/1000\n",
      "Train loss:  0.17457905553636097 \t Train accuracy: 0.9375\n",
      "Val loss: 0.30038658281167346 \t Val accuracy: 0.921875\n",
      "**********\n",
      "New best!\n",
      "**********\n",
      "EPOCH 31/1000\n",
      "Train loss:  0.1595657877624035 \t Train accuracy: 0.90625\n",
      "Val loss: 0.3727585921684901 \t Val accuracy: 0.890625\n",
      "EPOCH 32/1000\n",
      "Train loss:  0.15547740024824938 \t Train accuracy: 0.875\n",
      "Val loss: 0.324558990697066 \t Val accuracy: 0.90625\n",
      "EPOCH 33/1000\n",
      "Train loss:  0.15546905710583642 \t Train accuracy: 0.96875\n",
      "Val loss: 0.2979329874118169 \t Val accuracy: 0.9166666666666666\n",
      "**********\n",
      "New best!\n",
      "**********\n",
      "EPOCH 34/1000\n",
      "Train loss:  0.15332847239360922 \t Train accuracy: 1.0\n",
      "Val loss: 0.2903065476566553 \t Val accuracy: 0.921875\n",
      "**********\n",
      "New best!\n",
      "**********\n",
      "EPOCH 35/1000\n",
      "Train loss:  0.14813848061575777 \t Train accuracy: 1.0\n",
      "Val loss: 0.32200731337070465 \t Val accuracy: 0.9114583333333334\n",
      "EPOCH 36/1000\n",
      "Train loss:  0.1270369803976445 \t Train accuracy: 0.96875\n",
      "Val loss: 0.32297178854544956 \t Val accuracy: 0.921875\n",
      "EPOCH 37/1000\n",
      "Train loss:  0.1356565962057738 \t Train accuracy: 1.0\n",
      "Val loss: 0.26554543400804204 \t Val accuracy: 0.9427083333333334\n",
      "**********\n",
      "New best!\n",
      "**********\n",
      "EPOCH 38/1000\n",
      "Train loss:  0.12471891540501799 \t Train accuracy: 0.96875\n",
      "Val loss: 0.3223366489013036 \t Val accuracy: 0.9114583333333334\n",
      "EPOCH 39/1000\n",
      "Train loss:  0.1179971331286998 \t Train accuracy: 0.9375\n",
      "Val loss: 0.27731383840243023 \t Val accuracy: 0.9270833333333334\n",
      "EPOCH 40/1000\n",
      "Train loss:  0.11069319947134881 \t Train accuracy: 0.9375\n",
      "Val loss: 0.30449849367141724 \t Val accuracy: 0.921875\n",
      "EPOCH 41/1000\n",
      "Train loss:  0.09837208337904442 \t Train accuracy: 1.0\n",
      "Val loss: 0.3083624218900998 \t Val accuracy: 0.9322916666666666\n",
      "EPOCH 42/1000\n",
      "Train loss:  0.1059671047454079 \t Train accuracy: 1.0\n",
      "Val loss: 0.3218039820591609 \t Val accuracy: 0.9114583333333334\n",
      "EPOCH 43/1000\n",
      "Train loss:  0.10655926487275533 \t Train accuracy: 1.0\n",
      "Val loss: 0.28783612449963886 \t Val accuracy: 0.9114583333333334\n",
      "EPOCH 44/1000\n",
      "Train loss:  0.11205348576463404 \t Train accuracy: 0.96875\n",
      "Val loss: 0.30874576543768245 \t Val accuracy: 0.9322916666666666\n",
      "EPOCH 45/1000\n",
      "Train loss:  0.10186197588752423 \t Train accuracy: 1.0\n",
      "Val loss: 0.30814357350269955 \t Val accuracy: 0.921875\n",
      "EPOCH 46/1000\n",
      "Train loss:  0.08752064539917878 \t Train accuracy: 1.0\n",
      "Val loss: 0.2975856934984525 \t Val accuracy: 0.9322916666666666\n",
      "EPOCH 47/1000\n",
      "Train loss:  0.0928857782412143 \t Train accuracy: 1.0\n",
      "Val loss: 0.2662457823753357 \t Val accuracy: 0.9375\n",
      "EPOCH 48/1000\n",
      "Train loss:  0.09763570755187954 \t Train accuracy: 0.96875\n",
      "Val loss: 0.3805030733346939 \t Val accuracy: 0.890625\n",
      "EPOCH 49/1000\n",
      "Train loss:  0.0853903242608621 \t Train accuracy: 0.9375\n",
      "Val loss: 0.29547438708444435 \t Val accuracy: 0.9166666666666666\n",
      "EPOCH 50/1000\n",
      "Train loss:  0.08460774778255395 \t Train accuracy: 0.96875\n",
      "Val loss: 0.33163557077447575 \t Val accuracy: 0.921875\n",
      "EPOCH 51/1000\n",
      "Train loss:  0.09321741626730987 \t Train accuracy: 1.0\n",
      "Val loss: 0.30792438983917236 \t Val accuracy: 0.921875\n",
      "EPOCH 52/1000\n",
      "Train loss:  0.09847235896935065 \t Train accuracy: 0.96875\n",
      "Val loss: 0.3370279024044673 \t Val accuracy: 0.9270833333333334\n",
      "EPOCH 53/1000\n",
      "Train loss:  0.07687604012677357 \t Train accuracy: 1.0\n",
      "Val loss: 0.35718969504038495 \t Val accuracy: 0.9166666666666666\n",
      "EPOCH 54/1000\n",
      "Train loss:  0.06786422666517042 \t Train accuracy: 1.0\n",
      "Val loss: 0.3481067791581154 \t Val accuracy: 0.9010416666666666\n",
      "EPOCH 55/1000\n",
      "Train loss:  0.08801439932237069 \t Train accuracy: 0.96875\n",
      "Val loss: 0.2985861736039321 \t Val accuracy: 0.9166666666666666\n",
      "EPOCH 56/1000\n",
      "Train loss:  0.08480973497387909 \t Train accuracy: 0.90625\n",
      "Val loss: 0.2880756768087546 \t Val accuracy: 0.9270833333333334\n",
      "EPOCH 57/1000\n",
      "Train loss:  0.07565962026516597 \t Train accuracy: 1.0\n",
      "Val loss: 0.2752341218292713 \t Val accuracy: 0.9322916666666666\n",
      "EPOCH 58/1000\n",
      "Train loss:  0.07258707426843189 \t Train accuracy: 1.0\n",
      "Val loss: 0.3145048214743535 \t Val accuracy: 0.9270833333333334\n",
      "EPOCH 59/1000\n",
      "Train loss:  0.08057079597243241 \t Train accuracy: 0.96875\n",
      "Val loss: 0.32047514369090396 \t Val accuracy: 0.9166666666666666\n",
      "EPOCH 60/1000\n",
      "Train loss:  0.07113832020245138 \t Train accuracy: 0.96875\n",
      "Val loss: 0.3653700227538745 \t Val accuracy: 0.890625\n",
      "EPOCH 61/1000\n",
      "Train loss:  0.06917953790564622 \t Train accuracy: 1.0\n",
      "Val loss: 0.31690167635679245 \t Val accuracy: 0.9375\n",
      "EPOCH 62/1000\n",
      "Train loss:  0.07012896104494021 \t Train accuracy: 0.96875\n",
      "Val loss: 0.2912885658442974 \t Val accuracy: 0.921875\n",
      "EPOCH 63/1000\n",
      "Train loss:  0.06188446941918561 \t Train accuracy: 1.0\n",
      "Val loss: 0.3699098937213421 \t Val accuracy: 0.9010416666666666\n",
      "EPOCH 64/1000\n",
      "Train loss:  0.060799224501741786 \t Train accuracy: 0.96875\n",
      "Val loss: 0.32852227178712684 \t Val accuracy: 0.9322916666666666\n",
      "EPOCH 65/1000\n",
      "Train loss:  0.06267535207527024 \t Train accuracy: 1.0\n",
      "Val loss: 0.29769136011600494 \t Val accuracy: 0.9479166666666666\n",
      "EPOCH 66/1000\n",
      "Train loss:  0.058830965986652745 \t Train accuracy: 0.96875\n",
      "Val loss: 0.31871579587459564 \t Val accuracy: 0.9270833333333334\n",
      "EPOCH 67/1000\n",
      "Train loss:  0.062345863452979496 \t Train accuracy: 1.0\n",
      "Val loss: 0.36030280714233714 \t Val accuracy: 0.9270833333333334\n",
      "EPOCH 68/1000\n",
      "Train loss:  0.06622586632147431 \t Train accuracy: 1.0\n",
      "Val loss: 0.3350844855109851 \t Val accuracy: 0.9375\n",
      "EPOCH 69/1000\n",
      "Train loss:  0.06005310979006546 \t Train accuracy: 1.0\n",
      "Val loss: 0.3392157778143883 \t Val accuracy: 0.9375\n",
      "EPOCH 70/1000\n",
      "Train loss:  0.0682446741765099 \t Train accuracy: 1.0\n",
      "Val loss: 0.36423532168070477 \t Val accuracy: 0.921875\n",
      "EPOCH 71/1000\n",
      "Train loss:  0.048190934117883444 \t Train accuracy: 1.0\n",
      "Val loss: 0.3296337593346834 \t Val accuracy: 0.9270833333333334\n",
      "EPOCH 72/1000\n",
      "Train loss:  0.04471900635620668 \t Train accuracy: 1.0\n",
      "Val loss: 0.3614895576611161 \t Val accuracy: 0.921875\n",
      "EPOCH 73/1000\n",
      "Train loss:  0.05062139290384948 \t Train accuracy: 1.0\n",
      "Val loss: 0.3993755578994751 \t Val accuracy: 0.9114583333333334\n",
      "EPOCH 74/1000\n",
      "Train loss:  0.05157820926979184 \t Train accuracy: 0.96875\n",
      "Val loss: 0.38561353273689747 \t Val accuracy: 0.9270833333333334\n",
      "EPOCH 75/1000\n",
      "Train loss:  0.050348008871965465 \t Train accuracy: 1.0\n",
      "Val loss: 0.3387454611559709 \t Val accuracy: 0.9322916666666666\n",
      "EPOCH 76/1000\n",
      "Train loss:  0.05234155872104956 \t Train accuracy: 1.0\n",
      "Val loss: 0.3805366779367129 \t Val accuracy: 0.9166666666666666\n",
      "EPOCH 77/1000\n",
      "Train loss:  0.058071690112618465 \t Train accuracy: 1.0\n",
      "Val loss: 0.3493097300330798 \t Val accuracy: 0.9427083333333334\n",
      "EPOCH 78/1000\n",
      "Train loss:  0.04513604832547052 \t Train accuracy: 1.0\n",
      "Val loss: 0.323330274472634 \t Val accuracy: 0.9270833333333334\n",
      "EPOCH 79/1000\n",
      "Train loss:  0.03586749883279914 \t Train accuracy: 1.0\n",
      "Val loss: 0.3236309240261714 \t Val accuracy: 0.9322916666666666\n",
      "EPOCH 80/1000\n",
      "Train loss:  0.03440259689731257 \t Train accuracy: 0.9375\n",
      "Val loss: 0.32605818659067154 \t Val accuracy: 0.9322916666666666\n",
      "EPOCH 81/1000\n",
      "Train loss:  0.03999703247765345 \t Train accuracy: 0.96875\n",
      "Val loss: 0.33348438205818337 \t Val accuracy: 0.9375\n",
      "EPOCH 82/1000\n",
      "Train loss:  0.059538772651216106 \t Train accuracy: 0.90625\n",
      "Val loss: 0.4895278438925743 \t Val accuracy: 0.9010416666666666\n",
      "EPOCH 83/1000\n",
      "Train loss:  0.04514719526993022 \t Train accuracy: 1.0\n",
      "Val loss: 0.3614747825389107 \t Val accuracy: 0.9270833333333334\n",
      "EPOCH 84/1000\n",
      "Train loss:  0.0402602670448167 \t Train accuracy: 1.0\n",
      "Val loss: 0.3092171832298239 \t Val accuracy: 0.9427083333333334\n",
      "EPOCH 85/1000\n",
      "Train loss:  0.03705543585653816 \t Train accuracy: 1.0\n",
      "Val loss: 0.3181922556832433 \t Val accuracy: 0.9322916666666666\n",
      "EPOCH 86/1000\n",
      "Train loss:  0.04038155837250607 \t Train accuracy: 0.96875\n",
      "Val loss: 0.32113907982905704 \t Val accuracy: 0.9375\n",
      "EPOCH 87/1000\n",
      "Train loss:  0.029416234287921162 \t Train accuracy: 1.0\n",
      "Val loss: 0.3515055812895298 \t Val accuracy: 0.9322916666666666\n",
      "EPOCH 88/1000\n",
      "Train loss:  0.03944165016790586 \t Train accuracy: 1.0\n",
      "Val loss: 0.3435998583833377 \t Val accuracy: 0.9375\n",
      "EPOCH 89/1000\n",
      "Train loss:  0.02865143393587676 \t Train accuracy: 1.0\n",
      "Val loss: 0.3136143560210864 \t Val accuracy: 0.9427083333333334\n",
      "EPOCH 90/1000\n",
      "Train loss:  0.03796053607393766 \t Train accuracy: 1.0\n",
      "Val loss: 0.3649471352497737 \t Val accuracy: 0.9270833333333334\n",
      "EPOCH 91/1000\n",
      "Train loss:  0.02792785330010312 \t Train accuracy: 0.96875\n",
      "Val loss: 0.34754609192411107 \t Val accuracy: 0.9375\n",
      "EPOCH 92/1000\n",
      "Train loss:  0.03790733406675004 \t Train accuracy: 1.0\n",
      "Val loss: 0.36044566333293915 \t Val accuracy: 0.9270833333333334\n",
      "EPOCH 93/1000\n",
      "Train loss:  0.03670732223517483 \t Train accuracy: 0.96875\n",
      "Val loss: 0.28844507845739525 \t Val accuracy: 0.953125\n",
      "EPOCH 94/1000\n",
      "Train loss:  0.038937847185436456 \t Train accuracy: 0.9375\n",
      "Val loss: 0.3285603846112887 \t Val accuracy: 0.9375\n",
      "EPOCH 95/1000\n",
      "Train loss:  0.047746120929895414 \t Train accuracy: 1.0\n",
      "Val loss: 0.309187447031339 \t Val accuracy: 0.9427083333333334\n",
      "EPOCH 96/1000\n",
      "Train loss:  0.038450655937638314 \t Train accuracy: 0.96875\n",
      "Val loss: 0.3235345259308815 \t Val accuracy: 0.9270833333333334\n",
      "EPOCH 97/1000\n",
      "Train loss:  0.031235110103374437 \t Train accuracy: 1.0\n",
      "Val loss: 0.34184760972857475 \t Val accuracy: 0.9375\n",
      "EPOCH 98/1000\n",
      "Train loss:  0.032772432103575694 \t Train accuracy: 1.0\n",
      "Val loss: 0.33250157659252483 \t Val accuracy: 0.9479166666666666\n",
      "EPOCH 99/1000\n",
      "Train loss:  0.03998236309382178 \t Train accuracy: 1.0\n",
      "Val loss: 0.3114650873467326 \t Val accuracy: 0.9479166666666666\n",
      "EPOCH 100/1000\n",
      "Train loss:  0.03824802372782003 \t Train accuracy: 1.0\n",
      "Val loss: 0.3692063245301445 \t Val accuracy: 0.9322916666666666\n",
      "EPOCH 101/1000\n",
      "Train loss:  0.03226472535780409 \t Train accuracy: 1.0\n",
      "Val loss: 0.341360326235493 \t Val accuracy: 0.9270833333333334\n",
      "EPOCH 102/1000\n",
      "Train loss:  0.02651983454069566 \t Train accuracy: 1.0\n",
      "Val loss: 0.3270597383379936 \t Val accuracy: 0.9270833333333334\n",
      "EPOCH 103/1000\n",
      "Train loss:  0.02694218138986755 \t Train accuracy: 1.0\n",
      "Val loss: 0.3910297602415085 \t Val accuracy: 0.9322916666666666\n",
      "EPOCH 104/1000\n",
      "Train loss:  0.02918243980301278 \t Train accuracy: 1.0\n",
      "Val loss: 0.3510565223793189 \t Val accuracy: 0.9375\n",
      "EPOCH 105/1000\n",
      "Train loss:  0.035235527758708314 \t Train accuracy: 1.0\n",
      "Val loss: 0.3401707454274098 \t Val accuracy: 0.921875\n",
      "EPOCH 106/1000\n",
      "Train loss:  0.03293735582181918 \t Train accuracy: 1.0\n",
      "Val loss: 0.32411624242862064 \t Val accuracy: 0.9479166666666666\n",
      "EPOCH 107/1000\n",
      "Train loss:  0.029245779006963686 \t Train accuracy: 0.9375\n",
      "Val loss: 0.34861478488892317 \t Val accuracy: 0.9270833333333334\n",
      "EPOCH 108/1000\n",
      "Train loss:  0.02804001570967514 \t Train accuracy: 1.0\n",
      "Val loss: 0.36646193576355773 \t Val accuracy: 0.9375\n",
      "EPOCH 109/1000\n",
      "Train loss:  0.03581640222996828 \t Train accuracy: 0.96875\n",
      "Val loss: 0.37072883794705075 \t Val accuracy: 0.9322916666666666\n",
      "EPOCH 110/1000\n",
      "Train loss:  0.027944848429234254 \t Train accuracy: 1.0\n",
      "Val loss: 0.31569676970442134 \t Val accuracy: 0.9479166666666666\n",
      "EPOCH 111/1000\n",
      "Train loss:  0.02297873995155983 \t Train accuracy: 1.0\n",
      "Val loss: 0.33783063230415183 \t Val accuracy: 0.9427083333333334\n",
      "EPOCH 112/1000\n",
      "Train loss:  0.026119091115625843 \t Train accuracy: 0.96875\n",
      "Val loss: 0.3621136558552583 \t Val accuracy: 0.9270833333333334\n",
      "EPOCH 113/1000\n",
      "Train loss:  0.029621297131857967 \t Train accuracy: 0.9375\n",
      "Val loss: 0.35775286704301834 \t Val accuracy: 0.9427083333333334\n",
      "EPOCH 114/1000\n",
      "Train loss:  0.03670254567017158 \t Train accuracy: 1.0\n",
      "Val loss: 0.30236555247878033 \t Val accuracy: 0.9479166666666666\n",
      "EPOCH 115/1000\n",
      "Train loss:  0.023086899636490715 \t Train accuracy: 1.0\n",
      "Val loss: 0.3660323570171992 \t Val accuracy: 0.9375\n",
      "EPOCH 116/1000\n",
      "Train loss:  0.048245764980536135 \t Train accuracy: 1.0\n",
      "Val loss: 0.3881841121862332 \t Val accuracy: 0.9322916666666666\n",
      "EPOCH 117/1000\n",
      "Train loss:  0.031714614203554536 \t Train accuracy: 1.0\n",
      "Val loss: 0.35968293622136116 \t Val accuracy: 0.9427083333333334\n",
      "EPOCH 118/1000\n",
      "Train loss:  0.03115661991649263 \t Train accuracy: 1.0\n",
      "Val loss: 0.34740989344815415 \t Val accuracy: 0.9114583333333334\n",
      "EPOCH 119/1000\n",
      "Train loss:  0.025175846553230213 \t Train accuracy: 1.0\n",
      "Val loss: 0.3371488153934479 \t Val accuracy: 0.9427083333333334\n",
      "EPOCH 120/1000\n",
      "Train loss:  0.02578120012324126 \t Train accuracy: 1.0\n",
      "Val loss: 0.3730594168106715 \t Val accuracy: 0.9375\n",
      "EPOCH 121/1000\n",
      "Train loss:  0.016449810864980378 \t Train accuracy: 1.0\n",
      "Val loss: 0.3454035579537352 \t Val accuracy: 0.9375\n",
      "EPOCH 122/1000\n",
      "Train loss:  0.024563985993154347 \t Train accuracy: 1.0\n",
      "Val loss: 0.3491207994520664 \t Val accuracy: 0.9427083333333334\n",
      "EPOCH 123/1000\n",
      "Train loss:  0.02318446046584064 \t Train accuracy: 1.0\n",
      "Val loss: 0.3288244182864825 \t Val accuracy: 0.9427083333333334\n",
      "EPOCH 124/1000\n",
      "Train loss:  0.02569795875821174 \t Train accuracy: 0.9375\n",
      "Val loss: 0.3542875973507762 \t Val accuracy: 0.9427083333333334\n",
      "EPOCH 125/1000\n",
      "Train loss:  0.02090791373380593 \t Train accuracy: 1.0\n",
      "Val loss: 0.36031312961131334 \t Val accuracy: 0.9322916666666666\n",
      "EPOCH 126/1000\n",
      "Train loss:  0.025813587392414256 \t Train accuracy: 1.0\n",
      "Val loss: 0.35273229827483493 \t Val accuracy: 0.9322916666666666\n",
      "EPOCH 127/1000\n",
      "Train loss:  0.015591518060925106 \t Train accuracy: 0.96875\n",
      "Val loss: 0.35722173168323934 \t Val accuracy: 0.9427083333333334\n",
      "EPOCH 128/1000\n",
      "Train loss:  0.03197541149954001 \t Train accuracy: 0.96875\n",
      "Val loss: 0.3831653868158658 \t Val accuracy: 0.9322916666666666\n",
      "EPOCH 129/1000\n",
      "Train loss:  0.02338779636193067 \t Train accuracy: 0.96875\n",
      "Val loss: 0.3568773704270522 \t Val accuracy: 0.9375\n",
      "EPOCH 130/1000\n",
      "Train loss:  0.01868535941910176 \t Train accuracy: 1.0\n",
      "Val loss: 0.3483233929922183 \t Val accuracy: 0.9427083333333334\n",
      "EPOCH 131/1000\n",
      "Train loss:  0.02077570843089017 \t Train accuracy: 1.0\n",
      "Val loss: 0.34718414520223934 \t Val accuracy: 0.9322916666666666\n",
      "EPOCH 132/1000\n",
      "Train loss:  0.014845837789055492 \t Train accuracy: 1.0\n",
      "Val loss: 0.3738613637785117 \t Val accuracy: 0.9375\n",
      "EPOCH 133/1000\n",
      "Train loss:  0.02130794378795794 \t Train accuracy: 1.0\n",
      "Val loss: 0.43915525699655217 \t Val accuracy: 0.921875\n",
      "EPOCH 134/1000\n",
      "Train loss:  0.01841943914492038 \t Train accuracy: 1.0\n",
      "Val loss: 0.3786027170717716 \t Val accuracy: 0.9270833333333334\n",
      "EPOCH 135/1000\n",
      "Train loss:  0.021179313377832017 \t Train accuracy: 1.0\n",
      "Val loss: 0.3875641900425156 \t Val accuracy: 0.9322916666666666\n",
      "EPOCH 136/1000\n",
      "Train loss:  0.012726775833427729 \t Train accuracy: 1.0\n",
      "Val loss: 0.3755321179827054 \t Val accuracy: 0.9375\n",
      "EPOCH 137/1000\n",
      "Train loss:  0.012641231180168688 \t Train accuracy: 1.0\n",
      "Val loss: 0.37212525059779483 \t Val accuracy: 0.9375\n",
      "EPOCH 138/1000\n",
      "Train loss:  0.015085177975595884 \t Train accuracy: 1.0\n",
      "Val loss: 0.410101297001044 \t Val accuracy: 0.9375\n",
      "Early stopping called!\n",
      "Training finished\n"
     ]
    }
   ],
   "source": [
    "from collections import defaultdict\n",
    "import copy\n",
    "\n",
    "\n",
    "history = defaultdict(list)\n",
    "best_val_loss = float('inf')  # Initialize with a large value\n",
    "best_val_acc = None\n",
    "best_model = None\n",
    "\n",
    "counter = 0\n",
    "\n",
    "for epoch in range(EPOCHS):\n",
    "    train_loss, train_acc = train_epoch(model, train_loader, loss_fn, optimizer, DEVICE)\n",
    "    val_loss, val_acc = eval_model(model, val_loader, loss_fn, DEVICE)\n",
    "    scheduler.step()\n",
    "\n",
    "    print(f\"EPOCH {epoch+1}/{EPOCHS}\")\n",
    "    print(f\"Train loss:  {train_loss} \\t Train accuracy: {train_acc}\")\n",
    "    print(f\"Val loss: {val_loss} \\t Val accuracy: {val_acc}\")\n",
    "\n",
    "    if val_loss < best_val_loss:\n",
    "        print('*'*10)\n",
    "        print('New best!')\n",
    "        print('*'*10)\n",
    "        best_val_loss = val_loss\n",
    "        best_val_acc = val_acc\n",
    "        best_model = copy.deepcopy(model.state_dict())\n",
    "        counter = 0\n",
    "    else:\n",
    "        counter += 1\n",
    "\n",
    "    if counter > 100:\n",
    "        print('Early stopping called!')\n",
    "        print('Training finished')\n",
    "        break\n",
    "\n",
    "    history['train_loss'].append(train_loss)\n",
    "    history['val_loss'].append(val_loss)\n"
   ]
  },
  {
   "cell_type": "code",
   "execution_count": 83,
   "metadata": {},
   "outputs": [
    {
     "name": "stdout",
     "output_type": "stream",
     "text": [
      "Best val loss: 0.26554543400804204\n",
      "Best val accuracy: 0.9427083333333334\n"
     ]
    }
   ],
   "source": [
    "print('Best val loss:', best_val_loss)\n",
    "print('Best val accuracy:', best_val_acc)\n"
   ]
  },
  {
   "cell_type": "code",
   "execution_count": 84,
   "metadata": {},
   "outputs": [
    {
     "data": {
      "text/plain": [
       "<All keys matched successfully>"
      ]
     },
     "execution_count": 84,
     "metadata": {},
     "output_type": "execute_result"
    }
   ],
   "source": [
    "model.load_state_dict(best_model)"
   ]
  },
  {
   "cell_type": "code",
   "execution_count": 85,
   "metadata": {},
   "outputs": [
    {
     "data": {
      "text/plain": [
       "<matplotlib.legend.Legend at 0x7378dab0ead0>"
      ]
     },
     "execution_count": 85,
     "metadata": {},
     "output_type": "execute_result"
    },
    {
     "data": {
      "image/png": "[encoded data removed]",
      "text/plain": [
       "<Figure size 640x480 with 1 Axes>"
      ]
     },
     "metadata": {},
     "output_type": "display_data"
    }
   ],
   "source": [
    "\n",
    "plt.plot(history['train_loss'], label = 'train CE')\n",
    "plt.plot(history['val_loss'], label = 'val CE')\n",
    "\n",
    "plt.legend()"
   ]
  },
  {
   "cell_type": "code",
   "execution_count": 86,
   "metadata": {},
   "outputs": [],
   "source": [
    "with torch.no_grad():\n",
    "    y_pred = model(X_test.to(DEVICE))\n",
    "    y_pred_labels = oh.inverse_transform(y_pred.detach().cpu())\n",
    "\n",
    "y_test_labels = oh.inverse_transform(y_test)"
   ]
  },
  {
   "cell_type": "code",
   "execution_count": 87,
   "metadata": {},
   "outputs": [
    {
     "data": {
      "text/plain": [
       "<sklearn.metrics._plot.confusion_matrix.ConfusionMatrixDisplay at 0x7378dd4c9a50>"
      ]
     },
     "execution_count": 87,
     "metadata": {},
     "output_type": "execute_result"
    },
    {
     "data": {
      "image/png": "[encoded data removed]",
      "text/plain": [
       "<Figure size 1600x1200 with 2 Axes>"
      ]
     },
     "metadata": {},
     "output_type": "display_data"
    }
   ],
   "source": [
    "cm = confusion_matrix(y_true= y_test_labels, y_pred = y_pred_labels)\n",
    "cm_disp = ConfusionMatrixDisplay(cm, display_labels=np.unique(y_test_labels))\n",
    "\n",
    "fig, ax = plt.subplots(figsize=(16, 12))\n",
    "cm_disp.plot(ax = ax, cmap = plt.cm.Greens)\n"
   ]
  },
  {
   "cell_type": "code",
   "execution_count": 88,
   "metadata": {},
   "outputs": [
    {
     "name": "stdout",
     "output_type": "stream",
     "text": [
      "               precision    recall  f1-score   support\n",
      "\n",
      "fake_euphoria       0.94      1.00      0.97        29\n",
      "fake_goodgirl       0.95      1.00      0.98        20\n",
      "  fake_theone       0.89      1.00      0.94        17\n",
      "    fake_ysly       1.00      1.00      1.00        22\n",
      "  og_euphoria       0.90      0.90      0.90        21\n",
      "  og_goodgirl       1.00      0.97      0.99        34\n",
      "    og_theone       0.92      0.85      0.88        27\n",
      "      og_ysly       0.95      0.86      0.90        22\n",
      "\n",
      "     accuracy                           0.95       192\n",
      "    macro avg       0.94      0.95      0.95       192\n",
      " weighted avg       0.95      0.95      0.95       192\n",
      "\n"
     ]
    }
   ],
   "source": [
    "print(classification_report(y_true=y_test_labels, y_pred=y_pred_labels))"
   ]
  },
  {
   "cell_type": "code",
   "execution_count": null,
   "metadata": {},
   "outputs": [],
   "source": []
  }
 ],
 "metadata": {
  "kernelspec": {
   "display_name": "torch-cuda",
   "language": "python",
   "name": "python3"
  },
  "language_info": {
   "codemirror_mode": {
    "name": "ipython",
    "version": 3
   },
   "file_extension": ".py",
   "mimetype": "text/x-python",
   "name": "python",
   "nbconvert_exporter": "python",
   "pygments_lexer": "ipython3",
   "version": "3.10.14"
  }
 },
 "nbformat": 4,
 "nbformat_minor": 2
}
