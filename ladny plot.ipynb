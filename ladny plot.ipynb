{
 "cells": [
  {
   "cell_type": "code",
   "execution_count": null,
   "metadata": {},
   "outputs": [],
   "source": [
    "import pandas as pd\n",
    "import matplotlib.pyplot as plt\n",
    "\n",
    "# lokalizacja danych\n",
    "fake_perfume_data = pd.read_csv('fake_goodgirl.csv')\n",
    "og_perfume_data = pd.read_csv('og_goodgirl.csv')\n",
    "\n",
    "# filtr samych danych rezystancji\n",
    "fake_resistance = fake_perfume_data[fake_perfume_data['Cycle Step Index'].between(0, 9)]['Resistance Gassensor']\n",
    "og_resistance = og_perfume_data[og_perfume_data['Cycle Step Index'].between(0, 9)]['Resistance Gassensor']\n",
    "\n",
    "# plot liniowy\n",
    "fig, ax = plt.subplots()\n",
    "\n",
    "ax.plot(fake_resistance.index, fake_resistance, color='red', label='Fake Perfume', alpha=0.4)\n",
    "ax.plot(og_resistance.index, og_resistance, color='green', label='Original Perfume', alpha=0.4)\n",
    "\n",
    "# legenda\n",
    "ax.set_xlabel('Time')\n",
    "ax.set_ylabel('Resistance')\n",
    "ax.set_title('Resistance Gassensor Over Time')\n",
    "ax.legend()\n",
    "\n",
    "# korekcja log bo inaczej jest nieczytelne\n",
    "ax.set_yscale('log')\n",
    "\n",
    "fig.tight_layout()\n",
    "\n",
    "plt.show()"
   ]
  }
 ],
 "metadata": {
  "kernelspec": {
   "display_name": "Python 3",
   "language": "python",
   "name": "python3"
  },
  "language_info": {
   "name": "python",
   "version": "3.12.1"
  }
 },
 "nbformat": 4,
 "nbformat_minor": 2
}
